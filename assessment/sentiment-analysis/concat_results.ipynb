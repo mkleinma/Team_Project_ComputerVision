{
 "cells": [
  {
   "cell_type": "code",
   "execution_count": 66,
   "metadata": {},
   "outputs": [],
   "source": [
    "import pandas as pd\n",
    "import numpy as np"
   ]
  },
  {
   "cell_type": "code",
   "execution_count": 67,
   "metadata": {},
   "outputs": [],
   "source": [
    "df_extract = pd.read_excel('results/result_extraction.xlsx')\n",
    "df_gemini = pd.read_csv(\"results/responses_subset_small_all_results_updated.csv\")\n",
    "df_lens_t5 = pd.read_csv('results_lens/SA_results_lens_t5_subset_5000.csv')\n",
    "df_vqa_base = pd.read_csv('results_VQA/SA_results_blip-vqa-base-large_subset_5000.csv')\n",
    "df_vqa_capfilt = pd.read_csv('results_VQA/SA_results_blip-vqa-capfilt-large_subset_5000.csv')\n",
    "df_text = pd.read_csv('results_text/results_text_roBERTa.csv')"
   ]
  },
  {
   "cell_type": "code",
   "execution_count": 68,
   "metadata": {},
   "outputs": [
    {
     "name": "stdout",
     "output_type": "stream",
     "text": [
      "df_extract: ['image_name', 'object_detection_results', 'aisak_description', 'moondream_description', 'gemini_description', 'facial_emotion', 'confidence']\n",
      "\n",
      "df_gemini: ['image', 'sentiment', 'confidence', 'explanation']\n",
      "\n",
      "df_lens_t5: ['Unnamed: 0', 'image', 'sentiment']\n",
      "\n",
      "df_vqa_base: ['Unnamed: 0', 'image', 'sentiment']\n",
      "\n",
      "df_vqa_capfilt: ['Unnamed: 0', 'image', 'sentiment']\n",
      "\n",
      "df_text: ['created_at', 'img_name', 'language', 'like_count', 'quote_count', 'referenced_tweets', 'retweet_count', 'text', 'tweet_id', 'Negative', 'Neutral', 'Positive', 'text_sent']\n",
      "\n"
     ]
    }
   ],
   "source": [
    "dfs = [df_extract, df_gemini, df_lens_t5, df_vqa_base, df_vqa_capfilt, df_text]\n",
    "df_names = ['df_extract', 'df_gemini', 'df_lens_t5', 'df_vqa_base', 'df_vqa_capfilt', 'df_text']\n",
    "\n",
    "for i in range(len(dfs)):\n",
    "    print(f\"{df_names[i]}: {list(dfs[i].columns)}\")\n",
    "    print()"
   ]
  },
  {
   "cell_type": "code",
   "execution_count": 69,
   "metadata": {},
   "outputs": [],
   "source": [
    "# rename column sentiment --> model\n",
    "\n",
    "df_extract = df_extract.rename(columns={'image_name': 'image'})\n",
    "df_gemini = df_gemini.rename(columns={'sentiment': 'gemini_img_sentiment'})\n",
    "df_lens_t5 = df_lens_t5.rename(columns={'sentiment': 'lens_t5_img_sentiment'})\n",
    "df_vqa_base = df_vqa_base.rename(columns={'sentiment': 'vqa_base_img_sentiment'})\n",
    "df_vqa_capfilt = df_vqa_capfilt.rename(columns={'sentiment': 'vqa_capfilt_img_sentiment'})\n",
    "df_text = df_text.rename(columns={'text_sent': 'roberta_text_sentiment'})\n",
    "df_text = df_text.rename(columns={'img_name': 'image'})"
   ]
  },
  {
   "cell_type": "code",
   "execution_count": 70,
   "metadata": {},
   "outputs": [
    {
     "name": "stdout",
     "output_type": "stream",
     "text": [
      "3000\n",
      "0\n"
     ]
    }
   ],
   "source": [
    "print(df_gemini.duplicated().sum())\n",
    "df_gemini = df_gemini.drop_duplicates()\n",
    "print(df_gemini.duplicated().sum())\n"
   ]
  },
  {
   "cell_type": "code",
   "execution_count": 71,
   "metadata": {},
   "outputs": [
    {
     "data": {
      "text/html": [
       "<div>\n",
       "<style scoped>\n",
       "    .dataframe tbody tr th:only-of-type {\n",
       "        vertical-align: middle;\n",
       "    }\n",
       "\n",
       "    .dataframe tbody tr th {\n",
       "        vertical-align: top;\n",
       "    }\n",
       "\n",
       "    .dataframe thead th {\n",
       "        text-align: right;\n",
       "    }\n",
       "</style>\n",
       "<table border=\"1\" class=\"dataframe\">\n",
       "  <thead>\n",
       "    <tr style=\"text-align: right;\">\n",
       "      <th></th>\n",
       "      <th>image</th>\n",
       "      <th>object_detection_results</th>\n",
       "      <th>aisak_description</th>\n",
       "      <th>moondream_description</th>\n",
       "      <th>gemini_description</th>\n",
       "      <th>facial_emotion</th>\n",
       "      <th>confidence</th>\n",
       "      <th>gemini_img_sentiment</th>\n",
       "      <th>lens_t5_img_sentiment</th>\n",
       "      <th>vqa_base_img_sentiment</th>\n",
       "      <th>vqa_capfilt_img_sentiment</th>\n",
       "      <th>like_count</th>\n",
       "      <th>quote_count</th>\n",
       "      <th>retweet_count</th>\n",
       "      <th>roberta_text_sentiment</th>\n",
       "    </tr>\n",
       "  </thead>\n",
       "  <tbody>\n",
       "    <tr>\n",
       "      <th>0</th>\n",
       "      <td>id_1153283149360762880_2019-07-22.jpg</td>\n",
       "      <td>NaN</td>\n",
       "      <td>a screenshot of a cell phone with a message ab...</td>\n",
       "      <td>The image shows a screenshot of a webpage from...</td>\n",
       "      <td>The image is a screenshot of a web page. The ...</td>\n",
       "      <td>---</td>\n",
       "      <td>0.873518</td>\n",
       "      <td>negative</td>\n",
       "      <td>negative</td>\n",
       "      <td>positive</td>\n",
       "      <td>positive</td>\n",
       "      <td>82582</td>\n",
       "      <td>3918</td>\n",
       "      <td>50280</td>\n",
       "      <td>Negative</td>\n",
       "    </tr>\n",
       "    <tr>\n",
       "      <th>1</th>\n",
       "      <td>id_1163744643600637952_2019-08-20.jpg</td>\n",
       "      <td>NaN</td>\n",
       "      <td>trees are in the background</td>\n",
       "      <td>The image depicts a serene winter landscape wi...</td>\n",
       "      <td>There are 15 trees on the right side of the i...</td>\n",
       "      <td>---</td>\n",
       "      <td>0.906822</td>\n",
       "      <td>neutral</td>\n",
       "      <td>positive</td>\n",
       "      <td>positive</td>\n",
       "      <td>positive</td>\n",
       "      <td>69820</td>\n",
       "      <td>2456</td>\n",
       "      <td>51781</td>\n",
       "      <td>Negative</td>\n",
       "    </tr>\n",
       "    <tr>\n",
       "      <th>2</th>\n",
       "      <td>id_1122574040936452097_2019-04-28.jpg</td>\n",
       "      <td>bird,</td>\n",
       "      <td>a close up of a hole in a wall with a black an...</td>\n",
       "      <td>The image shows a hole in a white wall, with a...</td>\n",
       "      <td>This is an image of a hole in a wall. The hol...</td>\n",
       "      <td>---</td>\n",
       "      <td>0.903128</td>\n",
       "      <td>negative</td>\n",
       "      <td>negative</td>\n",
       "      <td>neutral</td>\n",
       "      <td>neutral</td>\n",
       "      <td>69235</td>\n",
       "      <td>87</td>\n",
       "      <td>11051</td>\n",
       "      <td>Neutral</td>\n",
       "    </tr>\n",
       "    <tr>\n",
       "      <th>3</th>\n",
       "      <td>id_1188805167958974465_2019-10-28.jpg</td>\n",
       "      <td>person,</td>\n",
       "      <td>araffe in a red suit falling down a snowy ramp</td>\n",
       "      <td>In the image, a person dressed in a vibrant re...</td>\n",
       "      <td>The image shows a man in a purple suit, green...</td>\n",
       "      <td>disgust</td>\n",
       "      <td>0.881499</td>\n",
       "      <td>negative</td>\n",
       "      <td>negative</td>\n",
       "      <td>negative</td>\n",
       "      <td>negative</td>\n",
       "      <td>65465</td>\n",
       "      <td>70</td>\n",
       "      <td>6124</td>\n",
       "      <td>Negative</td>\n",
       "    </tr>\n",
       "    <tr>\n",
       "      <th>4</th>\n",
       "      <td>id_1108042949449969666_2019-03-19.jpg</td>\n",
       "      <td>NaN</td>\n",
       "      <td>spongebob squarepants - the tree in the middle...</td>\n",
       "      <td>The image depicts a vibrant underwater scene f...</td>\n",
       "      <td>The image is a cartoon. It shows a tree insid...</td>\n",
       "      <td>---</td>\n",
       "      <td>0.916996</td>\n",
       "      <td>neutral</td>\n",
       "      <td>negative</td>\n",
       "      <td>positive</td>\n",
       "      <td>positive</td>\n",
       "      <td>62852</td>\n",
       "      <td>976</td>\n",
       "      <td>9145</td>\n",
       "      <td>Negative</td>\n",
       "    </tr>\n",
       "  </tbody>\n",
       "</table>\n",
       "</div>"
      ],
      "text/plain": [
       "                                   image object_detection_results  \\\n",
       "0  id_1153283149360762880_2019-07-22.jpg                      NaN   \n",
       "1  id_1163744643600637952_2019-08-20.jpg                      NaN   \n",
       "2  id_1122574040936452097_2019-04-28.jpg                   bird,    \n",
       "3  id_1188805167958974465_2019-10-28.jpg                 person,    \n",
       "4  id_1108042949449969666_2019-03-19.jpg                      NaN   \n",
       "\n",
       "                                   aisak_description  \\\n",
       "0  a screenshot of a cell phone with a message ab...   \n",
       "1                        trees are in the background   \n",
       "2  a close up of a hole in a wall with a black an...   \n",
       "3     araffe in a red suit falling down a snowy ramp   \n",
       "4  spongebob squarepants - the tree in the middle...   \n",
       "\n",
       "                               moondream_description  \\\n",
       "0  The image shows a screenshot of a webpage from...   \n",
       "1  The image depicts a serene winter landscape wi...   \n",
       "2  The image shows a hole in a white wall, with a...   \n",
       "3  In the image, a person dressed in a vibrant re...   \n",
       "4  The image depicts a vibrant underwater scene f...   \n",
       "\n",
       "                                  gemini_description facial_emotion  \\\n",
       "0   The image is a screenshot of a web page. The ...            ---   \n",
       "1   There are 15 trees on the right side of the i...            ---   \n",
       "2   This is an image of a hole in a wall. The hol...            ---   \n",
       "3   The image shows a man in a purple suit, green...        disgust   \n",
       "4   The image is a cartoon. It shows a tree insid...            ---   \n",
       "\n",
       "   confidence gemini_img_sentiment lens_t5_img_sentiment  \\\n",
       "0    0.873518             negative              negative   \n",
       "1    0.906822              neutral              positive   \n",
       "2    0.903128             negative              negative   \n",
       "3    0.881499             negative              negative   \n",
       "4    0.916996              neutral              negative   \n",
       "\n",
       "  vqa_base_img_sentiment vqa_capfilt_img_sentiment  like_count  quote_count  \\\n",
       "0               positive                  positive       82582         3918   \n",
       "1               positive                  positive       69820         2456   \n",
       "2                neutral                   neutral       69235           87   \n",
       "3               negative                  negative       65465           70   \n",
       "4               positive                  positive       62852          976   \n",
       "\n",
       "   retweet_count roberta_text_sentiment  \n",
       "0          50280               Negative  \n",
       "1          51781               Negative  \n",
       "2          11051                Neutral  \n",
       "3           6124               Negative  \n",
       "4           9145               Negative  "
      ]
     },
     "execution_count": 71,
     "metadata": {},
     "output_type": "execute_result"
    }
   ],
   "source": [
    "merged_df = df_extract.copy()\n",
    "\n",
    "merged1 = pd.merge(merged_df, df_gemini[['image', 'gemini_img_sentiment']], on='image', how='left')\n",
    "merged2 = pd.merge(merged1, df_lens_t5[['image', 'lens_t5_img_sentiment']], on='image', how='left')\n",
    "merged3 = pd.merge(merged2, df_vqa_base[['image', 'vqa_base_img_sentiment']], on='image', how='left')\n",
    "merged4 = pd.merge(merged3, df_vqa_capfilt[['image', 'vqa_capfilt_img_sentiment']], on='image', how='left')\n",
    "merged5 = pd.merge(merged4, df_text[['image', 'like_count', 'quote_count', 'retweet_count', 'roberta_text_sentiment']], on='image', how='left')\n",
    "\n",
    "merged5.head()"
   ]
  },
  {
   "cell_type": "code",
   "execution_count": 72,
   "metadata": {},
   "outputs": [
    {
     "data": {
      "text/plain": [
       "(5000, 15)"
      ]
     },
     "execution_count": 72,
     "metadata": {},
     "output_type": "execute_result"
    }
   ],
   "source": [
    "merged5.shape"
   ]
  },
  {
   "cell_type": "code",
   "execution_count": 73,
   "metadata": {},
   "outputs": [
    {
     "data": {
      "text/plain": [
       "image                           0\n",
       "object_detection_results     1405\n",
       "aisak_description               0\n",
       "moondream_description           0\n",
       "gemini_description            636\n",
       "facial_emotion                  0\n",
       "confidence                      0\n",
       "gemini_img_sentiment            0\n",
       "lens_t5_img_sentiment           0\n",
       "vqa_base_img_sentiment          0\n",
       "vqa_capfilt_img_sentiment       0\n",
       "like_count                      0\n",
       "quote_count                     0\n",
       "retweet_count                   0\n",
       "roberta_text_sentiment         30\n",
       "dtype: int64"
      ]
     },
     "execution_count": 73,
     "metadata": {},
     "output_type": "execute_result"
    }
   ],
   "source": [
    "merged5.isna().sum()"
   ]
  },
  {
   "cell_type": "code",
   "execution_count": 74,
   "metadata": {},
   "outputs": [],
   "source": [
    "# export dataframes\n",
    "merged5.to_excel('results/merged_results.xlsx', index=False)"
   ]
  },
  {
   "cell_type": "code",
   "execution_count": null,
   "metadata": {},
   "outputs": [],
   "source": []
  }
 ],
 "metadata": {
  "kernelspec": {
   "display_name": "base",
   "language": "python",
   "name": "python3"
  },
  "language_info": {
   "codemirror_mode": {
    "name": "ipython",
    "version": 3
   },
   "file_extension": ".py",
   "mimetype": "text/x-python",
   "name": "python",
   "nbconvert_exporter": "python",
   "pygments_lexer": "ipython3",
   "version": "3.11.4"
  }
 },
 "nbformat": 4,
 "nbformat_minor": 2
}

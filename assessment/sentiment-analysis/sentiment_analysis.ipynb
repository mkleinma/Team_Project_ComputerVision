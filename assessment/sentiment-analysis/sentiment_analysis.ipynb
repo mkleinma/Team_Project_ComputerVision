{
 "cells": [
  {
   "cell_type": "markdown",
   "metadata": {},
   "source": [
    "## Sentiment Analysis"
   ]
  },
  {
   "cell_type": "markdown",
   "metadata": {},
   "source": [
    "### Text"
   ]
  },
  {
   "cell_type": "markdown",
   "metadata": {},
   "source": [
    "- textblob.sentiments: NaiveBayesAnalyzer, PatternAnalyzer\n",
    "    - result: polarity [-1,1], subjectivity [-1,1]\n",
    "\n",
    "- VADER: "
   ]
  },
  {
   "cell_type": "code",
   "execution_count": 4,
   "metadata": {},
   "outputs": [
    {
     "name": "stdout",
     "output_type": "stream",
     "text": [
      "Collecting vaderSentiment\n",
      "  Obtaining dependency information for vaderSentiment from https://files.pythonhosted.org/packages/76/fc/310e16254683c1ed35eeb97386986d6c00bc29df17ce280aed64d55537e9/vaderSentiment-3.3.2-py2.py3-none-any.whl.metadata\n",
      "  Downloading vaderSentiment-3.3.2-py2.py3-none-any.whl.metadata (572 bytes)\n",
      "Requirement already satisfied: requests in /Users/inken/anaconda3/lib/python3.11/site-packages (from vaderSentiment) (2.31.0)\n",
      "Requirement already satisfied: charset-normalizer<4,>=2 in /Users/inken/anaconda3/lib/python3.11/site-packages (from requests->vaderSentiment) (2.0.4)\n",
      "Requirement already satisfied: idna<4,>=2.5 in /Users/inken/anaconda3/lib/python3.11/site-packages (from requests->vaderSentiment) (3.4)\n",
      "Requirement already satisfied: urllib3<3,>=1.21.1 in /Users/inken/anaconda3/lib/python3.11/site-packages (from requests->vaderSentiment) (1.26.16)\n",
      "Requirement already satisfied: certifi>=2017.4.17 in /Users/inken/anaconda3/lib/python3.11/site-packages (from requests->vaderSentiment) (2023.7.22)\n",
      "Downloading vaderSentiment-3.3.2-py2.py3-none-any.whl (125 kB)\n",
      "\u001b[2K   \u001b[90m━━━━━━━━━━━━━━━━━━━━━━━━━━━━━━━━━━━━━━━━\u001b[0m \u001b[32m126.0/126.0 kB\u001b[0m \u001b[31m2.7 MB/s\u001b[0m eta \u001b[36m0:00:00\u001b[0m00:01\u001b[0m\n",
      "\u001b[?25hInstalling collected packages: vaderSentiment\n",
      "Successfully installed vaderSentiment-3.3.2\n",
      "Note: you may need to restart the kernel to use updated packages.\n"
     ]
    }
   ],
   "source": [
    "%pip install vaderSentiment\n",
    "%pip install textblob"
   ]
  },
  {
   "cell_type": "code",
   "execution_count": 1,
   "metadata": {},
   "outputs": [],
   "source": [
    "import os\n",
    "import sys\n",
    "sys.path.append(os.path.abspath(os.path.join(os.getcwd(), '..', '..')))\n",
    "from preprocessing.preprocessing import *"
   ]
  },
  {
   "cell_type": "code",
   "execution_count": 3,
   "metadata": {},
   "outputs": [],
   "source": [
    "# sentiment analysis imports\n",
    "\n",
    "from vaderSentiment.vaderSentiment import SentimentIntensityAnalyzer\n"
   ]
  },
  {
   "cell_type": "code",
   "execution_count": 9,
   "metadata": {},
   "outputs": [
    {
     "name": "stdout",
     "output_type": "stream",
     "text": [
      "Items: tweet_data\n",
      "(5000, 9)\n"
     ]
    }
   ],
   "source": [
    "df = load_dataset(subset_name=\"climatevisions_2019_popular\")\n",
    "df = preprocess_dataset(df, selected_columns=None)"
   ]
  },
  {
   "cell_type": "code",
   "execution_count": 6,
   "metadata": {},
   "outputs": [
    {
     "data": {
      "text/html": [
       "<div>\n",
       "<style scoped>\n",
       "    .dataframe tbody tr th:only-of-type {\n",
       "        vertical-align: middle;\n",
       "    }\n",
       "\n",
       "    .dataframe tbody tr th {\n",
       "        vertical-align: top;\n",
       "    }\n",
       "\n",
       "    .dataframe thead th {\n",
       "        text-align: right;\n",
       "    }\n",
       "</style>\n",
       "<table border=\"1\" class=\"dataframe\">\n",
       "  <thead>\n",
       "    <tr style=\"text-align: right;\">\n",
       "      <th></th>\n",
       "      <th>created_at</th>\n",
       "      <th>img_name</th>\n",
       "      <th>language</th>\n",
       "      <th>like_count</th>\n",
       "      <th>quote_count</th>\n",
       "      <th>referenced_tweets</th>\n",
       "      <th>retweet_count</th>\n",
       "      <th>text</th>\n",
       "      <th>tweet_id</th>\n",
       "    </tr>\n",
       "  </thead>\n",
       "  <tbody>\n",
       "    <tr>\n",
       "      <th>0</th>\n",
       "      <td>2019-07-22T12:38:24.000Z</td>\n",
       "      <td>id_1153283149360762880_2019-07-22.jpg\\n</td>\n",
       "      <td>en</td>\n",
       "      <td>b'82582'</td>\n",
       "      <td>b'3918'</td>\n",
       "      <td>&lt;NA&gt;</td>\n",
       "      <td>b'50280'</td>\n",
       "      <td>the UN released a 740 page report compiled ove...</td>\n",
       "      <td>1153283149360762880</td>\n",
       "    </tr>\n",
       "    <tr>\n",
       "      <th>1</th>\n",
       "      <td>2019-08-20T09:28:39.000Z</td>\n",
       "      <td>id_1163744643600637952_2019-08-20.jpg\\n</td>\n",
       "      <td>en</td>\n",
       "      <td>b'69820'</td>\n",
       "      <td>b'2456'</td>\n",
       "      <td>&lt;NA&gt;</td>\n",
       "      <td>b'51781'</td>\n",
       "      <td>The Amazon Rainforest, one of the wettest plac...</td>\n",
       "      <td>1163744643600637952</td>\n",
       "    </tr>\n",
       "    <tr>\n",
       "      <th>2</th>\n",
       "      <td>2019-04-28T18:51:22.000Z</td>\n",
       "      <td>id_1122574040936452097_2019-04-28.jpg\\n</td>\n",
       "      <td>en</td>\n",
       "      <td>b'69235'</td>\n",
       "      <td>b'87'</td>\n",
       "      <td>&lt;NA&gt;</td>\n",
       "      <td>b'11051'</td>\n",
       "      <td>just learned about climate change https://t.co...</td>\n",
       "      <td>1122574040936452097</td>\n",
       "    </tr>\n",
       "    <tr>\n",
       "      <th>3</th>\n",
       "      <td>2019-10-28T13:10:13.000Z</td>\n",
       "      <td>id_1188805167958974465_2019-10-28.jpg\\n</td>\n",
       "      <td>en</td>\n",
       "      <td>b'65465'</td>\n",
       "      <td>b'70'</td>\n",
       "      <td>&lt;NA&gt;</td>\n",
       "      <td>b'6124'</td>\n",
       "      <td>Climate change caused this. https://t.co/JG2Ly...</td>\n",
       "      <td>1188805167958974465</td>\n",
       "    </tr>\n",
       "    <tr>\n",
       "      <th>4</th>\n",
       "      <td>2019-03-19T16:30:00.000Z</td>\n",
       "      <td>id_1108042949449969666_2019-03-19.jpg\\n</td>\n",
       "      <td>en</td>\n",
       "      <td>b'62852'</td>\n",
       "      <td>b'976'</td>\n",
       "      <td>&lt;NA&gt;</td>\n",
       "      <td>b'9145'</td>\n",
       "      <td>#GreenNewDeal haters\\xe2\\x80\\x99 plan to addre...</td>\n",
       "      <td>1108042949449969666</td>\n",
       "    </tr>\n",
       "  </tbody>\n",
       "</table>\n",
       "</div>"
      ],
      "text/plain": [
       "                 created_at                                 img_name language  \\\n",
       "0  2019-07-22T12:38:24.000Z  id_1153283149360762880_2019-07-22.jpg\\n       en   \n",
       "1  2019-08-20T09:28:39.000Z  id_1163744643600637952_2019-08-20.jpg\\n       en   \n",
       "2  2019-04-28T18:51:22.000Z  id_1122574040936452097_2019-04-28.jpg\\n       en   \n",
       "3  2019-10-28T13:10:13.000Z  id_1188805167958974465_2019-10-28.jpg\\n       en   \n",
       "4  2019-03-19T16:30:00.000Z  id_1108042949449969666_2019-03-19.jpg\\n       en   \n",
       "\n",
       "  like_count quote_count referenced_tweets retweet_count  \\\n",
       "0   b'82582'     b'3918'              <NA>      b'50280'   \n",
       "1   b'69820'     b'2456'              <NA>      b'51781'   \n",
       "2   b'69235'       b'87'              <NA>      b'11051'   \n",
       "3   b'65465'       b'70'              <NA>       b'6124'   \n",
       "4   b'62852'      b'976'              <NA>       b'9145'   \n",
       "\n",
       "                                                text             tweet_id  \n",
       "0  the UN released a 740 page report compiled ove...  1153283149360762880  \n",
       "1  The Amazon Rainforest, one of the wettest plac...  1163744643600637952  \n",
       "2  just learned about climate change https://t.co...  1122574040936452097  \n",
       "3  Climate change caused this. https://t.co/JG2Ly...  1188805167958974465  \n",
       "4  #GreenNewDeal haters\\xe2\\x80\\x99 plan to addre...  1108042949449969666  "
      ]
     },
     "execution_count": 6,
     "metadata": {},
     "output_type": "execute_result"
    }
   ],
   "source": [
    "df.head()"
   ]
  },
  {
   "cell_type": "code",
   "execution_count": 7,
   "metadata": {},
   "outputs": [
    {
     "data": {
      "text/plain": [
       "created_at           0\n",
       "img_name             0\n",
       "language             0\n",
       "like_count           0\n",
       "quote_count          0\n",
       "referenced_tweets    0\n",
       "retweet_count        0\n",
       "text                 0\n",
       "tweet_id             0\n",
       "dtype: int64"
      ]
     },
     "execution_count": 7,
     "metadata": {},
     "output_type": "execute_result"
    }
   ],
   "source": [
    "df.isna().sum()"
   ]
  },
  {
   "cell_type": "code",
   "execution_count": null,
   "metadata": {},
   "outputs": [],
   "source": [
    "# textblob\n",
    "# from textblob import TextBlob\n",
    "# from textblob.sentiments import NaiveBayesAnalyzer, PatternAnalyzer\n",
    "\n",
    "# text = \"That is really dangerous\"\n",
    "# print(TextBlob(text, analyzer=NaiveBayesAnalyzer()).sentiment)\n",
    "# print(TextBlob(text, analyzer=PatternAnalyzer()).sentiment)"
   ]
  },
  {
   "cell_type": "code",
   "execution_count": 17,
   "metadata": {},
   "outputs": [
    {
     "data": {
      "text/html": [
       "<div>\n",
       "<style scoped>\n",
       "    .dataframe tbody tr th:only-of-type {\n",
       "        vertical-align: middle;\n",
       "    }\n",
       "\n",
       "    .dataframe tbody tr th {\n",
       "        vertical-align: top;\n",
       "    }\n",
       "\n",
       "    .dataframe thead th {\n",
       "        text-align: right;\n",
       "    }\n",
       "</style>\n",
       "<table border=\"1\" class=\"dataframe\">\n",
       "  <thead>\n",
       "    <tr style=\"text-align: right;\">\n",
       "      <th></th>\n",
       "      <th>created_at</th>\n",
       "      <th>img_name</th>\n",
       "      <th>language</th>\n",
       "      <th>like_count</th>\n",
       "      <th>quote_count</th>\n",
       "      <th>referenced_tweets</th>\n",
       "      <th>retweet_count</th>\n",
       "      <th>text</th>\n",
       "      <th>tweet_id</th>\n",
       "    </tr>\n",
       "  </thead>\n",
       "  <tbody>\n",
       "    <tr>\n",
       "      <th>4995</th>\n",
       "      <td>2019-05-06T19:22:03.000Z</td>\n",
       "      <td>id_1125480867403636737_2019-05-06.jpg\\n</td>\n",
       "      <td>en</td>\n",
       "      <td>b'148'</td>\n",
       "      <td>b'4'</td>\n",
       "      <td>&lt;NA&gt;</td>\n",
       "      <td>b'81'</td>\n",
       "      <td>Only 3.5% of national television news segments...</td>\n",
       "      <td>1125480867403636737</td>\n",
       "    </tr>\n",
       "    <tr>\n",
       "      <th>4996</th>\n",
       "      <td>2019-05-08T15:04:33.000Z</td>\n",
       "      <td>id_1126140840882130946_2019-05-08.jpg\\n</td>\n",
       "      <td>de</td>\n",
       "      <td>b'148'</td>\n",
       "      <td>b'12'</td>\n",
       "      <td>&lt;NA&gt;</td>\n",
       "      <td>b'48'</td>\n",
       "      <td>\\xf0\\x9f\\x9a\\xa8 Es wird Zeit zu handeln! M\\xc...</td>\n",
       "      <td>1126140840882130946</td>\n",
       "    </tr>\n",
       "    <tr>\n",
       "      <th>4997</th>\n",
       "      <td>2019-05-15T20:33:28.000Z</td>\n",
       "      <td>id_1128760329830146048_2019-05-15.jpg\\n</td>\n",
       "      <td>en</td>\n",
       "      <td>b'148'</td>\n",
       "      <td>b'2'</td>\n",
       "      <td>&lt;NA&gt;</td>\n",
       "      <td>b'83'</td>\n",
       "      <td>Hello everyone. One big reminder before the el...</td>\n",
       "      <td>1128760329830146048</td>\n",
       "    </tr>\n",
       "    <tr>\n",
       "      <th>4998</th>\n",
       "      <td>2019-05-21T19:11:58.000Z</td>\n",
       "      <td>id_1130914144922812416_2019-05-21.jpg\\n</td>\n",
       "      <td>en</td>\n",
       "      <td>b'148'</td>\n",
       "      <td>b'19'</td>\n",
       "      <td>&lt;NA&gt;</td>\n",
       "      <td>b'85'</td>\n",
       "      <td>I\\xe2\\x80\\x99ve argued for the importance of c...</td>\n",
       "      <td>1130914144922812416</td>\n",
       "    </tr>\n",
       "    <tr>\n",
       "      <th>4999</th>\n",
       "      <td>2019-05-24T16:47:21.000Z</td>\n",
       "      <td>id_1131964914136965120_2019-05-24.jpg\\n</td>\n",
       "      <td>en</td>\n",
       "      <td>b'148'</td>\n",
       "      <td>b'6'</td>\n",
       "      <td>&lt;NA&gt;</td>\n",
       "      <td>b'46'</td>\n",
       "      <td>Kids can make sceptical parents change their m...</td>\n",
       "      <td>1131964914136965120</td>\n",
       "    </tr>\n",
       "  </tbody>\n",
       "</table>\n",
       "</div>"
      ],
      "text/plain": [
       "                    created_at                                 img_name  \\\n",
       "4995  2019-05-06T19:22:03.000Z  id_1125480867403636737_2019-05-06.jpg\\n   \n",
       "4996  2019-05-08T15:04:33.000Z  id_1126140840882130946_2019-05-08.jpg\\n   \n",
       "4997  2019-05-15T20:33:28.000Z  id_1128760329830146048_2019-05-15.jpg\\n   \n",
       "4998  2019-05-21T19:11:58.000Z  id_1130914144922812416_2019-05-21.jpg\\n   \n",
       "4999  2019-05-24T16:47:21.000Z  id_1131964914136965120_2019-05-24.jpg\\n   \n",
       "\n",
       "     language like_count quote_count referenced_tweets retweet_count  \\\n",
       "4995       en     b'148'        b'4'              <NA>         b'81'   \n",
       "4996       de     b'148'       b'12'              <NA>         b'48'   \n",
       "4997       en     b'148'        b'2'              <NA>         b'83'   \n",
       "4998       en     b'148'       b'19'              <NA>         b'85'   \n",
       "4999       en     b'148'        b'6'              <NA>         b'46'   \n",
       "\n",
       "                                                   text             tweet_id  \n",
       "4995  Only 3.5% of national television news segments...  1125480867403636737  \n",
       "4996  \\xf0\\x9f\\x9a\\xa8 Es wird Zeit zu handeln! M\\xc...  1126140840882130946  \n",
       "4997  Hello everyone. One big reminder before the el...  1128760329830146048  \n",
       "4998  I\\xe2\\x80\\x99ve argued for the importance of c...  1130914144922812416  \n",
       "4999  Kids can make sceptical parents change their m...  1131964914136965120  "
      ]
     },
     "execution_count": 17,
     "metadata": {},
     "output_type": "execute_result"
    }
   ],
   "source": [
    "# VADER\n",
    "df_sentiments = df.copy()\n",
    "\n",
    "sentiment = SentimentIntensityAnalyzer()\n",
    "\n",
    "df_sentiments['pos'] = [sentiment.polarity_scores(x)['pos'] for x in df_sentiments['text']]\n",
    "df_sentiments['neu'] = [sentiment.polarity_scores(x)['neu'] for x in df_sentiments['text']]\n",
    "df_sentiments['neg'] = [sentiment.polarity_scores(x)['neg'] for x in df_sentiments['text']]\n",
    "\n",
    "\n"
   ]
  },
  {
   "cell_type": "code",
   "execution_count": 18,
   "metadata": {},
   "outputs": [
    {
     "name": "stdout",
     "output_type": "stream",
     "text": [
      "the UN released a 740 page report compiled over six years by 250 scientists from 70 nations that basically states that unless drastic measures are taken to combat climate change, we are looking at mass extinction by 2050. At this point I don\\xe2\\x80\\x99t know if having kids is even ethical https://t.co/CsdTSpfRPv\n",
      "neg 0.044\n",
      "neu 0.896\n",
      "pos 0.06\n",
      "compound 0.2263\n",
      "The Amazon Rainforest, one of the wettest places on Earth, is on fire.  Siberia, one of the coldest places on Earth, is on fire.That aint normal. Climate change is for real and our planet is burning up. Humans are the cause of this deadly fever.#PrayforAmazonia https://t.co/D6VCTaCNXt\n",
      "neg 0.05\n",
      "neu 0.915\n",
      "pos 0.035\n",
      "compound -0.1779\n",
      "just learned about climate change https://t.co/OlmKwz2bOn\n",
      "neg 0.0\n",
      "neu 1.0\n",
      "pos 0.0\n",
      "compound 0.0\n",
      "Climate change caused this. https://t.co/JG2LyeX8Tx\n",
      "neg 0.0\n",
      "neu 1.0\n",
      "pos 0.0\n",
      "compound 0.0\n",
      "#GreenNewDeal haters\\xe2\\x80\\x99 plan to address Climate Change: https://t.co/ahuDXnxcDG\n",
      "neg 0.0\n",
      "neu 1.0\n",
      "pos 0.0\n",
      "compound 0.0\n",
      "Jon Snow, a tired millennial, dealing with wild political instability, accelerating climate change, and all the bullshit that his parents\\xe2\\x80\\x99 generation created and refused to deal with responsibly. #GameofThrones https://t.co/icETZh6oPH\n",
      "neg 0.241\n",
      "neu 0.705\n",
      "pos 0.054\n",
      "compound -0.7845\n",
      "Iceland just held a funeral for its first ever glacier lost to climate change. https://t.co/VmuXbLH0pV https://t.co/CCdASlreMo\n",
      "neg 0.255\n",
      "neu 0.745\n",
      "pos 0.0\n",
      "compound -0.5859\n",
      "My TL going from James Charles to abortion laws to climate change and pollution to dog videos https://t.co/zjKNhYN5BA\n",
      "neg 0.0\n",
      "neu 1.0\n",
      "pos 0.0\n",
      "compound 0.0\n",
      "b\"The Amazon rainforest has been burning for 3 weeks! We are on the verge of losing it completely if the fire isn't put out. The loss of trees, the loss of biodiversity is what is accelerating CLIMATE CHANGE. THIS IS AN INTERNATIONAL EMERGENCY. This is a CRISIS.#SaveTheAmazon https://t.co/EDx1bub5AZ\"\n",
      "neg 0.236\n",
      "neu 0.734\n",
      "pos 0.03\n",
      "compound -0.8954\n",
      "b\"From nurseries to full forest areas, the success of Billion Tree Tsunami has been unprecedented with public & pvt involvement. Has given us confidence to take the initiative to 10 bn trees. KP's forest cover has increased by 4%, contributing to the fight against climate change https://t.co/xFqJpwUq0u\"\n",
      "neg 0.048\n",
      "neu 0.786\n",
      "pos 0.166\n",
      "compound 0.7579\n"
     ]
    }
   ],
   "source": [
    "for i in range(10):\n",
    "    text = df['text'][i]\n",
    "    print(text)\n",
    "    sentiment = SentimentIntensityAnalyzer()\n",
    "    result = sentiment.polarity_scores(text)\n",
    "    for k, v in result.items():\n",
    "        print(k,v)"
   ]
  },
  {
   "cell_type": "code",
   "execution_count": 19,
   "metadata": {},
   "outputs": [
    {
     "data": {
      "application/vnd.jupyter.widget-view+json": {
       "model_id": "16aa2593a7c14802b757a52d087e3fa4",
       "version_major": 2,
       "version_minor": 0
      },
      "text/plain": [
       "Downloading config.json:   0%|          | 0.00/929 [00:00<?, ?B/s]"
      ]
     },
     "metadata": {},
     "output_type": "display_data"
    },
    {
     "data": {
      "application/vnd.jupyter.widget-view+json": {
       "model_id": "5b9dd553b4ad46f98994331758efd93e",
       "version_major": 2,
       "version_minor": 0
      },
      "text/plain": [
       "Downloading vocab.json:   0%|          | 0.00/899k [00:00<?, ?B/s]"
      ]
     },
     "metadata": {},
     "output_type": "display_data"
    },
    {
     "data": {
      "application/vnd.jupyter.widget-view+json": {
       "model_id": "9ce2da8727f74e9eabc0a7d2109b6183",
       "version_major": 2,
       "version_minor": 0
      },
      "text/plain": [
       "Downloading merges.txt:   0%|          | 0.00/456k [00:00<?, ?B/s]"
      ]
     },
     "metadata": {},
     "output_type": "display_data"
    },
    {
     "data": {
      "application/vnd.jupyter.widget-view+json": {
       "model_id": "31899ff16a6d46e2bd01efb58d79b8c1",
       "version_major": 2,
       "version_minor": 0
      },
      "text/plain": [
       "Downloading (…)cial_tokens_map.json:   0%|          | 0.00/239 [00:00<?, ?B/s]"
      ]
     },
     "metadata": {},
     "output_type": "display_data"
    },
    {
     "data": {
      "application/vnd.jupyter.widget-view+json": {
       "model_id": "04d7441a735444fab8de9f8167daf47d",
       "version_major": 2,
       "version_minor": 0
      },
      "text/plain": [
       "Downloading pytorch_model.bin:   0%|          | 0.00/501M [00:00<?, ?B/s]"
      ]
     },
     "metadata": {},
     "output_type": "display_data"
    },
    {
     "name": "stderr",
     "output_type": "stream",
     "text": [
      "Some weights of the model checkpoint at cardiffnlp/twitter-roberta-base-sentiment-latest were not used when initializing RobertaForSequenceClassification: ['roberta.pooler.dense.bias', 'roberta.pooler.dense.weight']\n",
      "- This IS expected if you are initializing RobertaForSequenceClassification from the checkpoint of a model trained on another task or with another architecture (e.g. initializing a BertForSequenceClassification model from a BertForPreTraining model).\n",
      "- This IS NOT expected if you are initializing RobertaForSequenceClassification from the checkpoint of a model that you expect to be exactly identical (initializing a BertForSequenceClassification model from a BertForSequenceClassification model).\n"
     ]
    }
   ],
   "source": [
    "# Load model directly\n",
    "from transformers import AutoTokenizer, AutoModelForSequenceClassification\n",
    "\n",
    "tokenizer = AutoTokenizer.from_pretrained(\"cardiffnlp/twitter-roberta-base-sentiment-latest\")\n",
    "model = AutoModelForSequenceClassification.from_pretrained(\"cardiffnlp/twitter-roberta-base-sentiment-latest\")"
   ]
  },
  {
   "cell_type": "code",
   "execution_count": 20,
   "metadata": {},
   "outputs": [
    {
     "name": "stdout",
     "output_type": "stream",
     "text": [
      "SequenceClassifierOutput(loss=None, logits=tensor([[ 1.6202,  0.4275, -2.5437]], grad_fn=<AddmmBackward0>), hidden_states=None, attentions=None)\n"
     ]
    }
   ],
   "source": [
    "text = df['text'][0]\n",
    "encoded_input = tokenizer(text, return_tensors='pt')\n",
    "output = model(**encoded_input)\n",
    "print(output)"
   ]
  },
  {
   "cell_type": "markdown",
   "metadata": {},
   "source": [
    "### Images"
   ]
  },
  {
   "cell_type": "markdown",
   "metadata": {},
   "source": []
  }
 ],
 "metadata": {
  "kernelspec": {
   "display_name": "base",
   "language": "python",
   "name": "python3"
  },
  "language_info": {
   "codemirror_mode": {
    "name": "ipython",
    "version": 3
   },
   "file_extension": ".py",
   "mimetype": "text/x-python",
   "name": "python",
   "nbconvert_exporter": "python",
   "pygments_lexer": "ipython3",
   "version": "3.11.4"
  }
 },
 "nbformat": 4,
 "nbformat_minor": 2
}

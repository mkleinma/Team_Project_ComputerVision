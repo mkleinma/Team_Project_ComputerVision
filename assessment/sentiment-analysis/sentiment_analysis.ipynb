{
 "cells": [
  {
   "cell_type": "markdown",
   "metadata": {},
   "source": [
    "## Sentiment Analysis"
   ]
  },
  {
   "cell_type": "markdown",
   "metadata": {},
   "source": [
    "### Text"
   ]
  },
  {
   "cell_type": "markdown",
   "metadata": {},
   "source": [
    "- textblob.sentiments: NaiveBayesAnalyzer, PatternAnalyzer\n",
    "    - result: polarity [-1,1], subjectivity [-1,1]\n",
    "\n",
    "- VADER: "
   ]
  },
  {
   "cell_type": "code",
   "execution_count": 4,
   "metadata": {},
   "outputs": [
    {
     "name": "stdout",
     "output_type": "stream",
     "text": [
      "Collecting vaderSentiment\n",
      "  Obtaining dependency information for vaderSentiment from https://files.pythonhosted.org/packages/76/fc/310e16254683c1ed35eeb97386986d6c00bc29df17ce280aed64d55537e9/vaderSentiment-3.3.2-py2.py3-none-any.whl.metadata\n",
      "  Downloading vaderSentiment-3.3.2-py2.py3-none-any.whl.metadata (572 bytes)\n",
      "Requirement already satisfied: requests in /Users/inken/anaconda3/lib/python3.11/site-packages (from vaderSentiment) (2.31.0)\n",
      "Requirement already satisfied: charset-normalizer<4,>=2 in /Users/inken/anaconda3/lib/python3.11/site-packages (from requests->vaderSentiment) (2.0.4)\n",
      "Requirement already satisfied: idna<4,>=2.5 in /Users/inken/anaconda3/lib/python3.11/site-packages (from requests->vaderSentiment) (3.4)\n",
      "Requirement already satisfied: urllib3<3,>=1.21.1 in /Users/inken/anaconda3/lib/python3.11/site-packages (from requests->vaderSentiment) (1.26.16)\n",
      "Requirement already satisfied: certifi>=2017.4.17 in /Users/inken/anaconda3/lib/python3.11/site-packages (from requests->vaderSentiment) (2023.7.22)\n",
      "Downloading vaderSentiment-3.3.2-py2.py3-none-any.whl (125 kB)\n",
      "\u001b[2K   \u001b[90m━━━━━━━━━━━━━━━━━━━━━━━━━━━━━━━━━━━━━━━━\u001b[0m \u001b[32m126.0/126.0 kB\u001b[0m \u001b[31m2.7 MB/s\u001b[0m eta \u001b[36m0:00:00\u001b[0m00:01\u001b[0m\n",
      "\u001b[?25hInstalling collected packages: vaderSentiment\n",
      "Successfully installed vaderSentiment-3.3.2\n",
      "Note: you may need to restart the kernel to use updated packages.\n"
     ]
    }
   ],
   "source": [
    "%pip install vaderSentiment\n",
    "%pip install textblob"
   ]
  },
  {
   "cell_type": "code",
   "execution_count": 2,
   "metadata": {},
   "outputs": [],
   "source": [
    "import os\n",
    "import sys\n",
    "sys.path.append(os.path.abspath(os.path.join(os.getcwd(), '..', '..')))\n",
    "from preprocessing.preprocessing import *"
   ]
  },
  {
   "cell_type": "code",
   "execution_count": 3,
   "metadata": {},
   "outputs": [],
   "source": [
    "# sentiment analysis imports\n",
    "\n",
    "from vaderSentiment.vaderSentiment import SentimentIntensityAnalyzer\n"
   ]
  },
  {
   "cell_type": "code",
   "execution_count": 74,
   "metadata": {},
   "outputs": [
    {
     "name": "stdout",
     "output_type": "stream",
     "text": [
      "Items: tweet_data\n",
      "(5000, 9)\n"
     ]
    }
   ],
   "source": [
    "df = load_dataset(subset_name=\"climatevisions_2019_popular\")\n",
    "df = preprocess_dataset(df, selected_columns=None)"
   ]
  },
  {
   "cell_type": "code",
   "execution_count": 5,
   "metadata": {},
   "outputs": [
    {
     "data": {
      "text/html": [
       "<div>\n",
       "<style scoped>\n",
       "    .dataframe tbody tr th:only-of-type {\n",
       "        vertical-align: middle;\n",
       "    }\n",
       "\n",
       "    .dataframe tbody tr th {\n",
       "        vertical-align: top;\n",
       "    }\n",
       "\n",
       "    .dataframe thead th {\n",
       "        text-align: right;\n",
       "    }\n",
       "</style>\n",
       "<table border=\"1\" class=\"dataframe\">\n",
       "  <thead>\n",
       "    <tr style=\"text-align: right;\">\n",
       "      <th></th>\n",
       "      <th>created_at</th>\n",
       "      <th>img_name</th>\n",
       "      <th>language</th>\n",
       "      <th>like_count</th>\n",
       "      <th>quote_count</th>\n",
       "      <th>referenced_tweets</th>\n",
       "      <th>retweet_count</th>\n",
       "      <th>text</th>\n",
       "      <th>tweet_id</th>\n",
       "    </tr>\n",
       "  </thead>\n",
       "  <tbody>\n",
       "    <tr>\n",
       "      <th>0</th>\n",
       "      <td>2019-07-22T12:38:24.000Z</td>\n",
       "      <td>id_1153283149360762880_2019-07-22.jpg\\n</td>\n",
       "      <td>en</td>\n",
       "      <td>b'82582'</td>\n",
       "      <td>b'3918'</td>\n",
       "      <td>&lt;NA&gt;</td>\n",
       "      <td>b'50280'</td>\n",
       "      <td>the UN released a 740 page report compiled ove...</td>\n",
       "      <td>1153283149360762880</td>\n",
       "    </tr>\n",
       "    <tr>\n",
       "      <th>1</th>\n",
       "      <td>2019-08-20T09:28:39.000Z</td>\n",
       "      <td>id_1163744643600637952_2019-08-20.jpg\\n</td>\n",
       "      <td>en</td>\n",
       "      <td>b'69820'</td>\n",
       "      <td>b'2456'</td>\n",
       "      <td>&lt;NA&gt;</td>\n",
       "      <td>b'51781'</td>\n",
       "      <td>The Amazon Rainforest, one of the wettest plac...</td>\n",
       "      <td>1163744643600637952</td>\n",
       "    </tr>\n",
       "    <tr>\n",
       "      <th>2</th>\n",
       "      <td>2019-04-28T18:51:22.000Z</td>\n",
       "      <td>id_1122574040936452097_2019-04-28.jpg\\n</td>\n",
       "      <td>en</td>\n",
       "      <td>b'69235'</td>\n",
       "      <td>b'87'</td>\n",
       "      <td>&lt;NA&gt;</td>\n",
       "      <td>b'11051'</td>\n",
       "      <td>just learned about climate change https://t.co...</td>\n",
       "      <td>1122574040936452097</td>\n",
       "    </tr>\n",
       "    <tr>\n",
       "      <th>3</th>\n",
       "      <td>2019-10-28T13:10:13.000Z</td>\n",
       "      <td>id_1188805167958974465_2019-10-28.jpg\\n</td>\n",
       "      <td>en</td>\n",
       "      <td>b'65465'</td>\n",
       "      <td>b'70'</td>\n",
       "      <td>&lt;NA&gt;</td>\n",
       "      <td>b'6124'</td>\n",
       "      <td>Climate change caused this. https://t.co/JG2Ly...</td>\n",
       "      <td>1188805167958974465</td>\n",
       "    </tr>\n",
       "    <tr>\n",
       "      <th>4</th>\n",
       "      <td>2019-03-19T16:30:00.000Z</td>\n",
       "      <td>id_1108042949449969666_2019-03-19.jpg\\n</td>\n",
       "      <td>en</td>\n",
       "      <td>b'62852'</td>\n",
       "      <td>b'976'</td>\n",
       "      <td>&lt;NA&gt;</td>\n",
       "      <td>b'9145'</td>\n",
       "      <td>#GreenNewDeal haters\\xe2\\x80\\x99 plan to addre...</td>\n",
       "      <td>1108042949449969666</td>\n",
       "    </tr>\n",
       "  </tbody>\n",
       "</table>\n",
       "</div>"
      ],
      "text/plain": [
       "                 created_at                                 img_name language  \\\n",
       "0  2019-07-22T12:38:24.000Z  id_1153283149360762880_2019-07-22.jpg\\n       en   \n",
       "1  2019-08-20T09:28:39.000Z  id_1163744643600637952_2019-08-20.jpg\\n       en   \n",
       "2  2019-04-28T18:51:22.000Z  id_1122574040936452097_2019-04-28.jpg\\n       en   \n",
       "3  2019-10-28T13:10:13.000Z  id_1188805167958974465_2019-10-28.jpg\\n       en   \n",
       "4  2019-03-19T16:30:00.000Z  id_1108042949449969666_2019-03-19.jpg\\n       en   \n",
       "\n",
       "  like_count quote_count referenced_tweets retweet_count  \\\n",
       "0   b'82582'     b'3918'              <NA>      b'50280'   \n",
       "1   b'69820'     b'2456'              <NA>      b'51781'   \n",
       "2   b'69235'       b'87'              <NA>      b'11051'   \n",
       "3   b'65465'       b'70'              <NA>       b'6124'   \n",
       "4   b'62852'      b'976'              <NA>       b'9145'   \n",
       "\n",
       "                                                text             tweet_id  \n",
       "0  the UN released a 740 page report compiled ove...  1153283149360762880  \n",
       "1  The Amazon Rainforest, one of the wettest plac...  1163744643600637952  \n",
       "2  just learned about climate change https://t.co...  1122574040936452097  \n",
       "3  Climate change caused this. https://t.co/JG2Ly...  1188805167958974465  \n",
       "4  #GreenNewDeal haters\\xe2\\x80\\x99 plan to addre...  1108042949449969666  "
      ]
     },
     "execution_count": 5,
     "metadata": {},
     "output_type": "execute_result"
    }
   ],
   "source": [
    "df.head()"
   ]
  },
  {
   "cell_type": "code",
   "execution_count": 6,
   "metadata": {},
   "outputs": [
    {
     "data": {
      "text/plain": [
       "created_at           0\n",
       "img_name             0\n",
       "language             0\n",
       "like_count           0\n",
       "quote_count          0\n",
       "referenced_tweets    0\n",
       "retweet_count        0\n",
       "text                 0\n",
       "tweet_id             0\n",
       "dtype: int64"
      ]
     },
     "execution_count": 6,
     "metadata": {},
     "output_type": "execute_result"
    }
   ],
   "source": [
    "df.isna().sum()"
   ]
  },
  {
   "cell_type": "code",
   "execution_count": 7,
   "metadata": {},
   "outputs": [],
   "source": [
    "# textblob\n",
    "# from textblob import TextBlob\n",
    "# from textblob.sentiments import NaiveBayesAnalyzer, PatternAnalyzer\n",
    "\n",
    "# text = \"That is really dangerous\"\n",
    "# print(TextBlob(text, analyzer=NaiveBayesAnalyzer()).sentiment)\n",
    "# print(TextBlob(text, analyzer=PatternAnalyzer()).sentiment)"
   ]
  },
  {
   "cell_type": "code",
   "execution_count": 8,
   "metadata": {},
   "outputs": [
    {
     "data": {
      "text/html": [
       "<div>\n",
       "<style scoped>\n",
       "    .dataframe tbody tr th:only-of-type {\n",
       "        vertical-align: middle;\n",
       "    }\n",
       "\n",
       "    .dataframe tbody tr th {\n",
       "        vertical-align: top;\n",
       "    }\n",
       "\n",
       "    .dataframe thead th {\n",
       "        text-align: right;\n",
       "    }\n",
       "</style>\n",
       "<table border=\"1\" class=\"dataframe\">\n",
       "  <thead>\n",
       "    <tr style=\"text-align: right;\">\n",
       "      <th></th>\n",
       "      <th>created_at</th>\n",
       "      <th>img_name</th>\n",
       "      <th>language</th>\n",
       "      <th>like_count</th>\n",
       "      <th>quote_count</th>\n",
       "      <th>referenced_tweets</th>\n",
       "      <th>retweet_count</th>\n",
       "      <th>text</th>\n",
       "      <th>tweet_id</th>\n",
       "      <th>pos</th>\n",
       "      <th>neu</th>\n",
       "      <th>neg</th>\n",
       "    </tr>\n",
       "  </thead>\n",
       "  <tbody>\n",
       "    <tr>\n",
       "      <th>0</th>\n",
       "      <td>2019-07-22T12:38:24.000Z</td>\n",
       "      <td>id_1153283149360762880_2019-07-22.jpg\\n</td>\n",
       "      <td>en</td>\n",
       "      <td>b'82582'</td>\n",
       "      <td>b'3918'</td>\n",
       "      <td>&lt;NA&gt;</td>\n",
       "      <td>b'50280'</td>\n",
       "      <td>the UN released a 740 page report compiled ove...</td>\n",
       "      <td>1153283149360762880</td>\n",
       "      <td>0.060</td>\n",
       "      <td>0.896</td>\n",
       "      <td>0.044</td>\n",
       "    </tr>\n",
       "    <tr>\n",
       "      <th>1</th>\n",
       "      <td>2019-08-20T09:28:39.000Z</td>\n",
       "      <td>id_1163744643600637952_2019-08-20.jpg\\n</td>\n",
       "      <td>en</td>\n",
       "      <td>b'69820'</td>\n",
       "      <td>b'2456'</td>\n",
       "      <td>&lt;NA&gt;</td>\n",
       "      <td>b'51781'</td>\n",
       "      <td>The Amazon Rainforest, one of the wettest plac...</td>\n",
       "      <td>1163744643600637952</td>\n",
       "      <td>0.035</td>\n",
       "      <td>0.915</td>\n",
       "      <td>0.050</td>\n",
       "    </tr>\n",
       "    <tr>\n",
       "      <th>2</th>\n",
       "      <td>2019-04-28T18:51:22.000Z</td>\n",
       "      <td>id_1122574040936452097_2019-04-28.jpg\\n</td>\n",
       "      <td>en</td>\n",
       "      <td>b'69235'</td>\n",
       "      <td>b'87'</td>\n",
       "      <td>&lt;NA&gt;</td>\n",
       "      <td>b'11051'</td>\n",
       "      <td>just learned about climate change https://t.co...</td>\n",
       "      <td>1122574040936452097</td>\n",
       "      <td>0.000</td>\n",
       "      <td>1.000</td>\n",
       "      <td>0.000</td>\n",
       "    </tr>\n",
       "    <tr>\n",
       "      <th>3</th>\n",
       "      <td>2019-10-28T13:10:13.000Z</td>\n",
       "      <td>id_1188805167958974465_2019-10-28.jpg\\n</td>\n",
       "      <td>en</td>\n",
       "      <td>b'65465'</td>\n",
       "      <td>b'70'</td>\n",
       "      <td>&lt;NA&gt;</td>\n",
       "      <td>b'6124'</td>\n",
       "      <td>Climate change caused this. https://t.co/JG2Ly...</td>\n",
       "      <td>1188805167958974465</td>\n",
       "      <td>0.000</td>\n",
       "      <td>1.000</td>\n",
       "      <td>0.000</td>\n",
       "    </tr>\n",
       "    <tr>\n",
       "      <th>4</th>\n",
       "      <td>2019-03-19T16:30:00.000Z</td>\n",
       "      <td>id_1108042949449969666_2019-03-19.jpg\\n</td>\n",
       "      <td>en</td>\n",
       "      <td>b'62852'</td>\n",
       "      <td>b'976'</td>\n",
       "      <td>&lt;NA&gt;</td>\n",
       "      <td>b'9145'</td>\n",
       "      <td>#GreenNewDeal haters\\xe2\\x80\\x99 plan to addre...</td>\n",
       "      <td>1108042949449969666</td>\n",
       "      <td>0.000</td>\n",
       "      <td>1.000</td>\n",
       "      <td>0.000</td>\n",
       "    </tr>\n",
       "  </tbody>\n",
       "</table>\n",
       "</div>"
      ],
      "text/plain": [
       "                 created_at                                 img_name language  \\\n",
       "0  2019-07-22T12:38:24.000Z  id_1153283149360762880_2019-07-22.jpg\\n       en   \n",
       "1  2019-08-20T09:28:39.000Z  id_1163744643600637952_2019-08-20.jpg\\n       en   \n",
       "2  2019-04-28T18:51:22.000Z  id_1122574040936452097_2019-04-28.jpg\\n       en   \n",
       "3  2019-10-28T13:10:13.000Z  id_1188805167958974465_2019-10-28.jpg\\n       en   \n",
       "4  2019-03-19T16:30:00.000Z  id_1108042949449969666_2019-03-19.jpg\\n       en   \n",
       "\n",
       "  like_count quote_count referenced_tweets retweet_count  \\\n",
       "0   b'82582'     b'3918'              <NA>      b'50280'   \n",
       "1   b'69820'     b'2456'              <NA>      b'51781'   \n",
       "2   b'69235'       b'87'              <NA>      b'11051'   \n",
       "3   b'65465'       b'70'              <NA>       b'6124'   \n",
       "4   b'62852'      b'976'              <NA>       b'9145'   \n",
       "\n",
       "                                                text             tweet_id  \\\n",
       "0  the UN released a 740 page report compiled ove...  1153283149360762880   \n",
       "1  The Amazon Rainforest, one of the wettest plac...  1163744643600637952   \n",
       "2  just learned about climate change https://t.co...  1122574040936452097   \n",
       "3  Climate change caused this. https://t.co/JG2Ly...  1188805167958974465   \n",
       "4  #GreenNewDeal haters\\xe2\\x80\\x99 plan to addre...  1108042949449969666   \n",
       "\n",
       "     pos    neu    neg  \n",
       "0  0.060  0.896  0.044  \n",
       "1  0.035  0.915  0.050  \n",
       "2  0.000  1.000  0.000  \n",
       "3  0.000  1.000  0.000  \n",
       "4  0.000  1.000  0.000  "
      ]
     },
     "execution_count": 8,
     "metadata": {},
     "output_type": "execute_result"
    }
   ],
   "source": [
    "# VADER\n",
    "df_sentiments = df.copy()\n",
    "\n",
    "sentiment = SentimentIntensityAnalyzer()\n",
    "\n",
    "df_sentiments['pos'] = [sentiment.polarity_scores(x)['pos'] for x in df_sentiments['text']]\n",
    "df_sentiments['neu'] = [sentiment.polarity_scores(x)['neu'] for x in df_sentiments['text']]\n",
    "df_sentiments['neg'] = [sentiment.polarity_scores(x)['neg'] for x in df_sentiments['text']]\n",
    "\n",
    "\n",
    "df_sentiments.head()\n"
   ]
  },
  {
   "cell_type": "code",
   "execution_count": 9,
   "metadata": {},
   "outputs": [
    {
     "name": "stdout",
     "output_type": "stream",
     "text": [
      "the UN released a 740 page report compiled over six years by 250 scientists from 70 nations that basically states that unless drastic measures are taken to combat climate change, we are looking at mass extinction by 2050. At this point I don\\xe2\\x80\\x99t know if having kids is even ethical https://t.co/CsdTSpfRPv\n",
      "neg 0.044\n",
      "neu 0.896\n",
      "pos 0.06\n",
      "compound 0.2263\n",
      "The Amazon Rainforest, one of the wettest places on Earth, is on fire.  Siberia, one of the coldest places on Earth, is on fire.That aint normal. Climate change is for real and our planet is burning up. Humans are the cause of this deadly fever.#PrayforAmazonia https://t.co/D6VCTaCNXt\n",
      "neg 0.05\n",
      "neu 0.915\n",
      "pos 0.035\n",
      "compound -0.1779\n",
      "just learned about climate change https://t.co/OlmKwz2bOn\n",
      "neg 0.0\n",
      "neu 1.0\n",
      "pos 0.0\n",
      "compound 0.0\n",
      "Climate change caused this. https://t.co/JG2LyeX8Tx\n",
      "neg 0.0\n",
      "neu 1.0\n",
      "pos 0.0\n",
      "compound 0.0\n",
      "#GreenNewDeal haters\\xe2\\x80\\x99 plan to address Climate Change: https://t.co/ahuDXnxcDG\n",
      "neg 0.0\n",
      "neu 1.0\n",
      "pos 0.0\n",
      "compound 0.0\n",
      "Jon Snow, a tired millennial, dealing with wild political instability, accelerating climate change, and all the bullshit that his parents\\xe2\\x80\\x99 generation created and refused to deal with responsibly. #GameofThrones https://t.co/icETZh6oPH\n",
      "neg 0.241\n",
      "neu 0.705\n",
      "pos 0.054\n",
      "compound -0.7845\n",
      "Iceland just held a funeral for its first ever glacier lost to climate change. https://t.co/VmuXbLH0pV https://t.co/CCdASlreMo\n",
      "neg 0.255\n",
      "neu 0.745\n",
      "pos 0.0\n",
      "compound -0.5859\n",
      "My TL going from James Charles to abortion laws to climate change and pollution to dog videos https://t.co/zjKNhYN5BA\n",
      "neg 0.0\n",
      "neu 1.0\n",
      "pos 0.0\n",
      "compound 0.0\n",
      "b\"The Amazon rainforest has been burning for 3 weeks! We are on the verge of losing it completely if the fire isn't put out. The loss of trees, the loss of biodiversity is what is accelerating CLIMATE CHANGE. THIS IS AN INTERNATIONAL EMERGENCY. This is a CRISIS.#SaveTheAmazon https://t.co/EDx1bub5AZ\"\n",
      "neg 0.236\n",
      "neu 0.734\n",
      "pos 0.03\n",
      "compound -0.8954\n",
      "b\"From nurseries to full forest areas, the success of Billion Tree Tsunami has been unprecedented with public & pvt involvement. Has given us confidence to take the initiative to 10 bn trees. KP's forest cover has increased by 4%, contributing to the fight against climate change https://t.co/xFqJpwUq0u\"\n",
      "neg 0.048\n",
      "neu 0.786\n",
      "pos 0.166\n",
      "compound 0.7579\n"
     ]
    }
   ],
   "source": [
    "for i in range(10):\n",
    "    text = df['text'][i]\n",
    "    print(text)\n",
    "    sentiment = SentimentIntensityAnalyzer()\n",
    "    result = sentiment.polarity_scores(text)\n",
    "    for k, v in result.items():\n",
    "        print(k,v)"
   ]
  },
  {
   "cell_type": "code",
   "execution_count": 24,
   "metadata": {},
   "outputs": [
    {
     "name": "stdout",
     "output_type": "stream",
     "text": [
      "pos: 784    It was a great honor & pleasure to welcome @SadhguruJV @ishafoundation at @UNFCCC. We discussed creative, natural, behavioral, ethical & innovative approaches to change #ClimateChange discourse. Looking forward to benefit from Sadhguru Ji\\xe2\\x80\\x99s wisdom & insights. https://t.co/cjNZrjMY2V\n",
      "Name: text, dtype: string\n",
      "neg: 81      We\\xe2\\x80\\x99re all going to die from irony poisoning if climate change doesn\\xe2\\x80\\x99t kill us first. https://t.co/iB2NfFwYCp\n",
      "4487    Parents scared of Momo ignoring kids scared of climate\\xc2\\xa0change https://t.co/0l01dgvAK4 https://t.co/MZzSwlZpSf              \n",
      "Name: text, dtype: string\n"
     ]
    }
   ],
   "source": [
    "df_sentiments_high_pos = df_sentiments[df_sentiments['pos'] > 0.5]\n",
    "df_sentiments_high_neu = df_sentiments[df_sentiments['neu'] > 0.5]\n",
    "df_sentiments_high_neg = df_sentiments[df_sentiments['neg'] > 0.5]\n",
    "\n",
    "with pd.option_context('display.max_colwidth', -1):\n",
    "    print(\"pos:\", df_sentiments_high_pos['text'])\n",
    "\n",
    "with pd.option_context('display.max_colwidth', -1):\n",
    "    print(\"neg:\", df_sentiments_high_neg['text'])\n"
   ]
  },
  {
   "cell_type": "markdown",
   "metadata": {},
   "source": [
    "## roBERTa"
   ]
  },
  {
   "cell_type": "code",
   "execution_count": 51,
   "metadata": {},
   "outputs": [
    {
     "name": "stdout",
     "output_type": "stream",
     "text": [
      "huggingface/tokenizers: The current process just got forked, after parallelism has already been used. Disabling parallelism to avoid deadlocks...\n",
      "To disable this warning, you can either:\n",
      "\t- Avoid using `tokenizers` before the fork if possible\n",
      "\t- Explicitly set the environment variable TOKENIZERS_PARALLELISM=(true | false)\n",
      "Requirement already satisfied: emoji in /Users/inken/anaconda3/lib/python3.11/site-packages (1.4.1)\n",
      "Note: you may need to restart the kernel to use updated packages.\n"
     ]
    }
   ],
   "source": [
    "# %pip install transformers\n",
    "# %pip install scipy\n",
    "%pip install emoji"
   ]
  },
  {
   "cell_type": "code",
   "execution_count": 27,
   "metadata": {},
   "outputs": [
    {
     "data": {
      "application/vnd.jupyter.widget-view+json": {
       "model_id": "1285102e46604412ab3a6dd327dafeff",
       "version_major": 2,
       "version_minor": 0
      },
      "text/plain": [
       "Downloading config.json:   0%|          | 0.00/747 [00:00<?, ?B/s]"
      ]
     },
     "metadata": {},
     "output_type": "display_data"
    },
    {
     "data": {
      "application/vnd.jupyter.widget-view+json": {
       "model_id": "1b84d326c2904b25a6c19a57a9661252",
       "version_major": 2,
       "version_minor": 0
      },
      "text/plain": [
       "Downloading pytorch_model.bin:   0%|          | 0.00/499M [00:00<?, ?B/s]"
      ]
     },
     "metadata": {},
     "output_type": "display_data"
    },
    {
     "data": {
      "application/vnd.jupyter.widget-view+json": {
       "model_id": "f5a88955fb7c4764aa26c1157d3ba5a8",
       "version_major": 2,
       "version_minor": 0
      },
      "text/plain": [
       "Downloading vocab.json:   0%|          | 0.00/899k [00:00<?, ?B/s]"
      ]
     },
     "metadata": {},
     "output_type": "display_data"
    },
    {
     "data": {
      "application/vnd.jupyter.widget-view+json": {
       "model_id": "9ac06c1ee20b439083e3ea80185ced84",
       "version_major": 2,
       "version_minor": 0
      },
      "text/plain": [
       "Downloading merges.txt:   0%|          | 0.00/456k [00:00<?, ?B/s]"
      ]
     },
     "metadata": {},
     "output_type": "display_data"
    },
    {
     "data": {
      "application/vnd.jupyter.widget-view+json": {
       "model_id": "1745841e28684dcf8f8218537cb9c49f",
       "version_major": 2,
       "version_minor": 0
      },
      "text/plain": [
       "Downloading (…)cial_tokens_map.json:   0%|          | 0.00/150 [00:00<?, ?B/s]"
      ]
     },
     "metadata": {},
     "output_type": "display_data"
    }
   ],
   "source": [
    "from transformers import AutoTokenizer, AutoModelForSequenceClassification\n",
    "from scipy.special import softmax\n",
    "\n",
    "roberta = \"cardiffnlp/twitter-roberta-base-sentiment\"\n",
    "\n",
    "model = AutoModelForSequenceClassification.from_pretrained(roberta)\n",
    "tokenizer = AutoTokenizer.from_pretrained(roberta)\n",
    "\n",
    "labels = ['Negative', 'Neutral', 'Positive']"
   ]
  },
  {
   "cell_type": "code",
   "execution_count": 84,
   "metadata": {},
   "outputs": [],
   "source": [
    "# Access the text of observation #64\n",
    "# df.loc[64]\n",
    "\n",
    "# Delete observation 64 bc text cant be processed due to different alphabet\n",
    "# Drop the rows with index 64 and 204\n",
    "df_test = df.copy()\n",
    "# df_test = df_test.drop(index=[64, 204, 330, 335])\n",
    "\n"
   ]
  },
  {
   "cell_type": "code",
   "execution_count": null,
   "metadata": {},
   "outputs": [],
   "source": [
    "with pd.option_context('display.max_colwidth', -1):\n",
    "    print(df[333:336])"
   ]
  },
  {
   "cell_type": "code",
   "execution_count": 86,
   "metadata": {},
   "outputs": [
    {
     "name": "stdout",
     "output_type": "stream",
     "text": [
      "Tweet too long\n",
      "Tweet too long\n",
      "Tweet too long\n",
      "Tweet too long\n",
      "Tweet too long\n",
      "Tweet too long\n",
      "Tweet too long\n",
      "Tweet too long\n",
      "Tweet too long\n",
      "Tweet too long\n",
      "Tweet too long\n",
      "Tweet too long\n",
      "Tweet too long\n",
      "Tweet too long\n",
      "Tweet too long\n",
      "Tweet too long\n",
      "Tweet too long\n",
      "Tweet too long\n",
      "Tweet too long\n",
      "Tweet too long\n",
      "Tweet too long\n",
      "Tweet too long\n",
      "Tweet too long\n",
      "Tweet too long\n",
      "Tweet too long\n",
      "Tweet too long\n",
      "Tweet too long\n",
      "Tweet too long\n",
      "Tweet too long\n",
      "Tweet too long\n",
      "30 tweets have been skipped due to their length.\n"
     ]
    },
    {
     "data": {
      "text/html": [
       "<div>\n",
       "<style scoped>\n",
       "    .dataframe tbody tr th:only-of-type {\n",
       "        vertical-align: middle;\n",
       "    }\n",
       "\n",
       "    .dataframe tbody tr th {\n",
       "        vertical-align: top;\n",
       "    }\n",
       "\n",
       "    .dataframe thead th {\n",
       "        text-align: right;\n",
       "    }\n",
       "</style>\n",
       "<table border=\"1\" class=\"dataframe\">\n",
       "  <thead>\n",
       "    <tr style=\"text-align: right;\">\n",
       "      <th></th>\n",
       "      <th>created_at</th>\n",
       "      <th>img_name</th>\n",
       "      <th>language</th>\n",
       "      <th>like_count</th>\n",
       "      <th>quote_count</th>\n",
       "      <th>referenced_tweets</th>\n",
       "      <th>retweet_count</th>\n",
       "      <th>text</th>\n",
       "      <th>tweet_id</th>\n",
       "      <th>Negative</th>\n",
       "      <th>Neutral</th>\n",
       "      <th>Positive</th>\n",
       "    </tr>\n",
       "  </thead>\n",
       "  <tbody>\n",
       "    <tr>\n",
       "      <th>0</th>\n",
       "      <td>2019-07-22T12:38:24.000Z</td>\n",
       "      <td>id_1153283149360762880_2019-07-22.jpg\\n</td>\n",
       "      <td>en</td>\n",
       "      <td>b'82582'</td>\n",
       "      <td>b'3918'</td>\n",
       "      <td>&lt;NA&gt;</td>\n",
       "      <td>b'50280'</td>\n",
       "      <td>the UN released a 740 page report compiled ove...</td>\n",
       "      <td>1153283149360762880</td>\n",
       "      <td>0.702820</td>\n",
       "      <td>0.273529</td>\n",
       "      <td>0.023651</td>\n",
       "    </tr>\n",
       "    <tr>\n",
       "      <th>1</th>\n",
       "      <td>2019-08-20T09:28:39.000Z</td>\n",
       "      <td>id_1163744643600637952_2019-08-20.jpg\\n</td>\n",
       "      <td>en</td>\n",
       "      <td>b'69820'</td>\n",
       "      <td>b'2456'</td>\n",
       "      <td>&lt;NA&gt;</td>\n",
       "      <td>b'51781'</td>\n",
       "      <td>The Amazon Rainforest, one of the wettest plac...</td>\n",
       "      <td>1163744643600637952</td>\n",
       "      <td>0.936377</td>\n",
       "      <td>0.057425</td>\n",
       "      <td>0.006198</td>\n",
       "    </tr>\n",
       "    <tr>\n",
       "      <th>2</th>\n",
       "      <td>2019-04-28T18:51:22.000Z</td>\n",
       "      <td>id_1122574040936452097_2019-04-28.jpg\\n</td>\n",
       "      <td>en</td>\n",
       "      <td>b'69235'</td>\n",
       "      <td>b'87'</td>\n",
       "      <td>&lt;NA&gt;</td>\n",
       "      <td>b'11051'</td>\n",
       "      <td>just learned about climate change https://t.co...</td>\n",
       "      <td>1122574040936452097</td>\n",
       "      <td>0.194377</td>\n",
       "      <td>0.751199</td>\n",
       "      <td>0.054424</td>\n",
       "    </tr>\n",
       "    <tr>\n",
       "      <th>3</th>\n",
       "      <td>2019-10-28T13:10:13.000Z</td>\n",
       "      <td>id_1188805167958974465_2019-10-28.jpg\\n</td>\n",
       "      <td>en</td>\n",
       "      <td>b'65465'</td>\n",
       "      <td>b'70'</td>\n",
       "      <td>&lt;NA&gt;</td>\n",
       "      <td>b'6124'</td>\n",
       "      <td>Climate change caused this. https://t.co/JG2Ly...</td>\n",
       "      <td>1188805167958974465</td>\n",
       "      <td>0.654834</td>\n",
       "      <td>0.322148</td>\n",
       "      <td>0.023018</td>\n",
       "    </tr>\n",
       "    <tr>\n",
       "      <th>4</th>\n",
       "      <td>2019-03-19T16:30:00.000Z</td>\n",
       "      <td>id_1108042949449969666_2019-03-19.jpg\\n</td>\n",
       "      <td>en</td>\n",
       "      <td>b'62852'</td>\n",
       "      <td>b'976'</td>\n",
       "      <td>&lt;NA&gt;</td>\n",
       "      <td>b'9145'</td>\n",
       "      <td>#GreenNewDeal haters\\xe2\\x80\\x99 plan to addre...</td>\n",
       "      <td>1108042949449969666</td>\n",
       "      <td>0.646413</td>\n",
       "      <td>0.322033</td>\n",
       "      <td>0.031555</td>\n",
       "    </tr>\n",
       "    <tr>\n",
       "      <th>...</th>\n",
       "      <td>...</td>\n",
       "      <td>...</td>\n",
       "      <td>...</td>\n",
       "      <td>...</td>\n",
       "      <td>...</td>\n",
       "      <td>...</td>\n",
       "      <td>...</td>\n",
       "      <td>...</td>\n",
       "      <td>...</td>\n",
       "      <td>...</td>\n",
       "      <td>...</td>\n",
       "      <td>...</td>\n",
       "    </tr>\n",
       "    <tr>\n",
       "      <th>4995</th>\n",
       "      <td>2019-05-06T19:22:03.000Z</td>\n",
       "      <td>id_1125480867403636737_2019-05-06.jpg\\n</td>\n",
       "      <td>en</td>\n",
       "      <td>b'148'</td>\n",
       "      <td>b'4'</td>\n",
       "      <td>&lt;NA&gt;</td>\n",
       "      <td>b'81'</td>\n",
       "      <td>Only 3.5% of national television news segments...</td>\n",
       "      <td>1125480867403636737</td>\n",
       "      <td>0.484638</td>\n",
       "      <td>0.457811</td>\n",
       "      <td>0.057551</td>\n",
       "    </tr>\n",
       "    <tr>\n",
       "      <th>4996</th>\n",
       "      <td>2019-05-08T15:04:33.000Z</td>\n",
       "      <td>id_1126140840882130946_2019-05-08.jpg\\n</td>\n",
       "      <td>de</td>\n",
       "      <td>b'148'</td>\n",
       "      <td>b'12'</td>\n",
       "      <td>&lt;NA&gt;</td>\n",
       "      <td>b'48'</td>\n",
       "      <td>\\xf0\\x9f\\x9a\\xa8 Es wird Zeit zu handeln! M\\xc...</td>\n",
       "      <td>1126140840882130946</td>\n",
       "      <td>0.128073</td>\n",
       "      <td>0.784596</td>\n",
       "      <td>0.087330</td>\n",
       "    </tr>\n",
       "    <tr>\n",
       "      <th>4997</th>\n",
       "      <td>2019-05-15T20:33:28.000Z</td>\n",
       "      <td>id_1128760329830146048_2019-05-15.jpg\\n</td>\n",
       "      <td>en</td>\n",
       "      <td>b'148'</td>\n",
       "      <td>b'2'</td>\n",
       "      <td>&lt;NA&gt;</td>\n",
       "      <td>b'83'</td>\n",
       "      <td>Hello everyone. One big reminder before the el...</td>\n",
       "      <td>1128760329830146048</td>\n",
       "      <td>0.525510</td>\n",
       "      <td>0.391184</td>\n",
       "      <td>0.083306</td>\n",
       "    </tr>\n",
       "    <tr>\n",
       "      <th>4998</th>\n",
       "      <td>2019-05-21T19:11:58.000Z</td>\n",
       "      <td>id_1130914144922812416_2019-05-21.jpg\\n</td>\n",
       "      <td>en</td>\n",
       "      <td>b'148'</td>\n",
       "      <td>b'19'</td>\n",
       "      <td>&lt;NA&gt;</td>\n",
       "      <td>b'85'</td>\n",
       "      <td>I\\xe2\\x80\\x99ve argued for the importance of c...</td>\n",
       "      <td>1130914144922812416</td>\n",
       "      <td>0.004773</td>\n",
       "      <td>0.207570</td>\n",
       "      <td>0.787657</td>\n",
       "    </tr>\n",
       "    <tr>\n",
       "      <th>4999</th>\n",
       "      <td>2019-05-24T16:47:21.000Z</td>\n",
       "      <td>id_1131964914136965120_2019-05-24.jpg\\n</td>\n",
       "      <td>en</td>\n",
       "      <td>b'148'</td>\n",
       "      <td>b'6'</td>\n",
       "      <td>&lt;NA&gt;</td>\n",
       "      <td>b'46'</td>\n",
       "      <td>Kids can make sceptical parents change their m...</td>\n",
       "      <td>1131964914136965120</td>\n",
       "      <td>0.227697</td>\n",
       "      <td>0.685997</td>\n",
       "      <td>0.086306</td>\n",
       "    </tr>\n",
       "  </tbody>\n",
       "</table>\n",
       "<p>5000 rows × 12 columns</p>\n",
       "</div>"
      ],
      "text/plain": [
       "                    created_at                                 img_name  \\\n",
       "0     2019-07-22T12:38:24.000Z  id_1153283149360762880_2019-07-22.jpg\\n   \n",
       "1     2019-08-20T09:28:39.000Z  id_1163744643600637952_2019-08-20.jpg\\n   \n",
       "2     2019-04-28T18:51:22.000Z  id_1122574040936452097_2019-04-28.jpg\\n   \n",
       "3     2019-10-28T13:10:13.000Z  id_1188805167958974465_2019-10-28.jpg\\n   \n",
       "4     2019-03-19T16:30:00.000Z  id_1108042949449969666_2019-03-19.jpg\\n   \n",
       "...                        ...                                      ...   \n",
       "4995  2019-05-06T19:22:03.000Z  id_1125480867403636737_2019-05-06.jpg\\n   \n",
       "4996  2019-05-08T15:04:33.000Z  id_1126140840882130946_2019-05-08.jpg\\n   \n",
       "4997  2019-05-15T20:33:28.000Z  id_1128760329830146048_2019-05-15.jpg\\n   \n",
       "4998  2019-05-21T19:11:58.000Z  id_1130914144922812416_2019-05-21.jpg\\n   \n",
       "4999  2019-05-24T16:47:21.000Z  id_1131964914136965120_2019-05-24.jpg\\n   \n",
       "\n",
       "     language like_count quote_count referenced_tweets retweet_count  \\\n",
       "0          en   b'82582'     b'3918'              <NA>      b'50280'   \n",
       "1          en   b'69820'     b'2456'              <NA>      b'51781'   \n",
       "2          en   b'69235'       b'87'              <NA>      b'11051'   \n",
       "3          en   b'65465'       b'70'              <NA>       b'6124'   \n",
       "4          en   b'62852'      b'976'              <NA>       b'9145'   \n",
       "...       ...        ...         ...               ...           ...   \n",
       "4995       en     b'148'        b'4'              <NA>         b'81'   \n",
       "4996       de     b'148'       b'12'              <NA>         b'48'   \n",
       "4997       en     b'148'        b'2'              <NA>         b'83'   \n",
       "4998       en     b'148'       b'19'              <NA>         b'85'   \n",
       "4999       en     b'148'        b'6'              <NA>         b'46'   \n",
       "\n",
       "                                                   text             tweet_id  \\\n",
       "0     the UN released a 740 page report compiled ove...  1153283149360762880   \n",
       "1     The Amazon Rainforest, one of the wettest plac...  1163744643600637952   \n",
       "2     just learned about climate change https://t.co...  1122574040936452097   \n",
       "3     Climate change caused this. https://t.co/JG2Ly...  1188805167958974465   \n",
       "4     #GreenNewDeal haters\\xe2\\x80\\x99 plan to addre...  1108042949449969666   \n",
       "...                                                 ...                  ...   \n",
       "4995  Only 3.5% of national television news segments...  1125480867403636737   \n",
       "4996  \\xf0\\x9f\\x9a\\xa8 Es wird Zeit zu handeln! M\\xc...  1126140840882130946   \n",
       "4997  Hello everyone. One big reminder before the el...  1128760329830146048   \n",
       "4998  I\\xe2\\x80\\x99ve argued for the importance of c...  1130914144922812416   \n",
       "4999  Kids can make sceptical parents change their m...  1131964914136965120   \n",
       "\n",
       "      Negative   Neutral  Positive  \n",
       "0     0.702820  0.273529  0.023651  \n",
       "1     0.936377  0.057425  0.006198  \n",
       "2     0.194377  0.751199  0.054424  \n",
       "3     0.654834  0.322148  0.023018  \n",
       "4     0.646413  0.322033  0.031555  \n",
       "...        ...       ...       ...  \n",
       "4995  0.484638  0.457811  0.057551  \n",
       "4996  0.128073  0.784596  0.087330  \n",
       "4997  0.525510  0.391184  0.083306  \n",
       "4998  0.004773  0.207570  0.787657  \n",
       "4999  0.227697  0.685997  0.086306  \n",
       "\n",
       "[5000 rows x 12 columns]"
      ]
     },
     "execution_count": 86,
     "metadata": {},
     "output_type": "execute_result"
    }
   ],
   "source": [
    "from scipy.special import softmax\n",
    "import re, string\n",
    "import emoji\n",
    "# Initialize the columns for the sentiment scores\n",
    "\n",
    "def strip_emoji(text):\n",
    "    return re.sub(emoji.get_emoji_regexp(), r\"\", text)\n",
    "\n",
    "df_sent = df_test.copy()\n",
    "df_sent['Negative'] = 0.0\n",
    "df_sent['Neutral'] = 0.0\n",
    "df_sent['Positive'] = 0.0\n",
    "\n",
    "excluded = 0\n",
    "# Go through the whole dataframe\n",
    "for index, row in df_sent.iterrows():\n",
    "    tweet_text = row['text']\n",
    "    no_emoji_tweet = emoji.replace_emoji(tweet_text, \"\")\n",
    "    encoded_tweet = tokenizer(str(no_emoji_tweet), return_tensors='pt')\n",
    "    # print(no_emoji_tweet)\n",
    "    \n",
    "    shape = encoded_tweet['input_ids'].shape\n",
    "    # print(shape[1])\n",
    "    if shape[1] > 512:\n",
    "        print(\"Tweet too long\")\n",
    "        excluded += 1\n",
    "        continue\n",
    "\n",
    "    output = model(**encoded_tweet)\n",
    "\n",
    "    scores = output[0][0].detach().numpy()\n",
    "    scores = softmax(scores)\n",
    "\n",
    "    # Assign the scores to the respective columns\n",
    "    df_sent.at[index, 'Negative'] = scores[0]\n",
    "    df_sent.at[index, 'Neutral'] = scores[1]\n",
    "    df_sent.at[index, 'Positive'] = scores[2]\n",
    "\n",
    "print(f\"{excluded} tweets have been skipped due to their length.\")\n",
    "df_sent"
   ]
  },
  {
   "cell_type": "code",
   "execution_count": 89,
   "metadata": {},
   "outputs": [],
   "source": [
    "# Rename the categories \"Negative\", \"Neutral\", \"Positive\" to lower case column names\n",
    "df_sent = df_sent.rename(columns={\"Negative\": \"negative\", \"Neutral\": \"neutral\", \"Positive\": \"positive\"})\n"
   ]
  },
  {
   "cell_type": "code",
   "execution_count": 102,
   "metadata": {},
   "outputs": [],
   "source": [
    "df_sent_high_pos = df_sent[df_sent['positive'] > 0.8]\n",
    "df_sent_high_neu = df_sent[df_sent['neutral'] > 0.8]\n",
    "df_sent_high_neg = df_sent[df_sent['negative'] > 0.8]"
   ]
  },
  {
   "cell_type": "code",
   "execution_count": 103,
   "metadata": {},
   "outputs": [
    {
     "name": "stdout",
     "output_type": "stream",
     "text": [
      "(658, 12)\n",
      "(379, 12)\n",
      "(410, 12)\n"
     ]
    }
   ],
   "source": [
    "print(df_sent_high_pos.shape)\n",
    "print(df_sent_high_neu.shape)\n",
    "print(df_sent_high_neg.shape)"
   ]
  },
  {
   "cell_type": "code",
   "execution_count": 104,
   "metadata": {},
   "outputs": [
    {
     "name": "stdout",
     "output_type": "stream",
     "text": [
      "pos: 9       b\"From nurseries to full forest areas, the success of Billion Tree Tsunami has been unprecedented with public & pvt involvement. Has given us confidence to take the initiative to 10 bn trees. KP's forest cover has increased by 4%, contributing to the fight against climate change https://t.co/xFqJpwUq0u\"                                                            \n",
      "14      .@FIAFormulaE tonight is announcing that it has enlisted super viral K-pop group @BTS_twt to help promote electric vehicles and combating climate change.\\xe2\\x9e\\x96 BTS is one of the most followed music acts in the world, with more than 90 million social media followers. https://t.co/7FSvU3RsLw                                                                    \n",
      "15      Friendly nations, futuristic outcomes. The RIC (Russia-India-China) meeting was an excellent forum to discuss ways to enhance multilateral cooperation between our nations and work to mitigate challenges being faced by our planet, most notably terrorism and climate change. https://t.co/LTljcPCTDW                                                                    \n",
      "25      b\"\\xf0\\x9f\\x8c\\xb1Plant Today, Save Tomorrow Year 2\\xf0\\x9f\\x8c\\xb1To celebrate RM's birthday, we planted 600 indigenous trees in Sierra Madre, the longest mountain range in PH, hoping to leave a legacy for RM & ARMY and be part of the solution to climate change.#weloveyouTREEthousand#Namjooning #\\xeb\\x82\\x98\\xeb\\xac\\xb4 \\xf0\\x9f\\x92\\x9a https://t.co/Adb0tMqRWV\"\n",
      "28      #FBF to this amazing sign a fan made. We still have so much to do to combat #ClimateChange. Get familiar with the #GreenNewDeal now before it\\xe2\\x80\\x99s too late: https://t.co/ePbwulCoXN https://t.co/WL19mL7Tfn                                                                                                                                                        \n",
      "                                                                                                                ...                                                                                                                                                                                                                                                                 \n",
      "4959    Glad to be offered opportunity to continue to serve in @NIOgov,. there is much work to do. Excited to join @beisgovuk which allows me to continue my efforts on climate change and energy. #DownToBusiness @andrealeadsom @JulianSmithUK https://t.co/KVU96rD0ix                                                                                                            \n",
      "4960    b\"GOOD MORNING \\xe2\\x98\\x80\\xef\\xb8\\x8f friends of #climatebrawl,. another great week of support and engagement against the propaganda of climate deniers. The community can do more. Let's take it up a notch. Support anyway you can. Be Active, Civil & Factual - #climatechange #climatecrisis https://t.co/wkThhcNKD7\"                                                 \n",
      "4965    WOW.... The all time temperature record was smashed at Summit station on the top of the Greenland ice sheet at 3202m on 2nd August. Temps of 4.7c was recorded This is nearly an enormous 20c  warmer than average...info via TV 2 vejret #severeweather #ExtremeWeather #climatechange https://t.co/oVtofQVVnH                                                             \n",
      "4968    b\"For the past 2 years, I've been working a project that tells the stories of how community leaders, scientists, businesses, engineers, and others are working together to respond to #ClimateChange. I am so excited that today @aaas releases #HowWeRespond! https://t.co/oAKYtx8MDQ https://t.co/et8zRx6E1U\"                                                             \n",
      "4980    My amazing friend @sherryrehman Chairman Climate change caucus, meets with young climate change activist Emaan Danish Khan. https://t.co/C9kEG66TNS                                                                                                                                                                                                                         \n",
      "Name: text, Length: 658, dtype: string\n",
      "neg: 1       The Amazon Rainforest, one of the wettest places on Earth, is on fire.  Siberia, one of the coldest places on Earth, is on fire.That aint normal. Climate change is for real and our planet is burning up. Humans are the cause of this deadly fever.#PrayforAmazonia https://t.co/D6VCTaCNXt                                                \n",
      "5       Jon Snow, a tired millennial, dealing with wild political instability, accelerating climate change, and all the bullshit that his parents\\xe2\\x80\\x99 generation created and refused to deal with responsibly. #GameofThrones https://t.co/icETZh6oPH                                                                                        \n",
      "8       b\"The Amazon rainforest has been burning for 3 weeks! We are on the verge of losing it completely if the fire isn't put out. The loss of trees, the loss of biodiversity is what is accelerating CLIMATE CHANGE. THIS IS AN INTERNATIONAL EMERGENCY. This is a CRISIS.#SaveTheAmazon https://t.co/EDx1bub5AZ\"                                \n",
      "11      Just got off the phone with the CEO of climate change...I told him to fuck off \\xf0\\x9f\\x92\\xaa\\xf0\\x9f\\x98\\xa4 https://t.co/yMYMYMLisO                                                                                                                                                                                                      \n",
      "19      Time we put every Australian politicians feet to the fire ( intended ) & get serious about climate change and our future.When the fire season passes they\\xe2\\x80\\x99ll assure you it wasn\\xe2\\x80\\x99t as bad as you remember.9 million acres and counting says fuck that bullshit. #wakeupAustralia https://t.co/79Yc2DJLDe                \n",
      "                                                                                                                                                                    ...                                                                                                                                                                              \n",
      "4934    me n my slime just heard about climate change, not too happy bout all dat\\xf0\\x9f\\x98\\xaa\\xf0\\x9f\\x98\\x88 https://t.co/xNDhZB6dJq                                                                                                                                                                                                            \n",
      "4936    The year is 2092. Climate change has decimated the planet, turning it into a waterless hellscape.For some reason newspapers are still doing stories about grasshoppers invading Las Vegas and ending up on pizza. https://t.co/RLeKs8578k                                                                                                    \n",
      "4952    What a tragedy that Scott Morrison\\xe2\\x80\\x99s hindsight only applies to family holidays and not climate change action.Wendy Knight, Little River@theage letters #auspoI#ClimateChange #NSWfires https://t.co/fAvnSfpVGi                                                                                                                    \n",
      "4966    \\xe2\\x80\\x9cClimate change is threatening the entire planet. It pains me very much that we have a president who believes climate change is a hoax. It is not a hoax. As president it will be my job to stand up to the fossil fuel industry and tell them this isn\\xe2\\x80\\x99t about profits.\\xe2\\x80\\x9d@SenSanders https://t.co/7sU5wmGCZY\n",
      "4989    The wall is racism.Climate is the real crisis.Up now over the 5 freeway at Glendale Blvd.#Racist #GOP #POtuS #WhiteSupremacy #climatechange #Freewayblogger https://t.co/6UWCuL0er8                                                                                                                                                          \n",
      "Name: text, Length: 410, dtype: string\n"
     ]
    }
   ],
   "source": [
    "with pd.option_context('display.max_colwidth', -1):\n",
    "    print(\"pos:\", df_sent_high_pos['text'])\n",
    "\n",
    "with pd.option_context('display.max_colwidth', -1):\n",
    "    print(\"neg:\", df_sent_high_neg['text'])"
   ]
  },
  {
   "cell_type": "markdown",
   "metadata": {},
   "source": [
    "### Images"
   ]
  },
  {
   "cell_type": "markdown",
   "metadata": {},
   "source": [
    "### Resnet"
   ]
  },
  {
   "cell_type": "markdown",
   "metadata": {},
   "source": [
    "### VGG"
   ]
  },
  {
   "cell_type": "markdown",
   "metadata": {},
   "source": []
  }
 ],
 "metadata": {
  "kernelspec": {
   "display_name": "base",
   "language": "python",
   "name": "python3"
  },
  "language_info": {
   "codemirror_mode": {
    "name": "ipython",
    "version": 3
   },
   "file_extension": ".py",
   "mimetype": "text/x-python",
   "name": "python",
   "nbconvert_exporter": "python",
   "pygments_lexer": "ipython3",
   "version": "3.11.4"
  }
 },
 "nbformat": 4,
 "nbformat_minor": 2
}

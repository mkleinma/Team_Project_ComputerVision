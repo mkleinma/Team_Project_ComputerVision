{
 "cells": [
  {
   "cell_type": "code",
   "execution_count": 3,
   "metadata": {},
   "outputs": [],
   "source": [
    "import pandas as pd\n",
    "import matplotlib.pyplot as plt\n",
    "import seaborn as sns\n",
    "import numpy as np"
   ]
  },
  {
   "cell_type": "markdown",
   "metadata": {},
   "source": [
    "### method definition\n"
   ]
  },
  {
   "cell_type": "code",
   "execution_count": 4,
   "metadata": {},
   "outputs": [],
   "source": [
    "def count_t_f(df_labels, df_predictions):\n",
    "    # compare labels with prediction of gemini \n",
    "    false_count = 0\n",
    "    true_count = 0\n",
    "    for index, row in df_labels.iterrows():\n",
    "        if row['img_name'] in df_predictions['image'].values:\n",
    "            gemini_row = df_predictions.loc[df_predictions['image'] == row['img_name']]\n",
    "            if row['image_sentiment'].lower() == gemini_row['sentiment'].values[0]:\n",
    "                true_count += 1\n",
    "            else:\n",
    "                false_count += 1\n",
    "\n",
    "    print(\"True: \", true_count)\n",
    "    print(\"False: \", false_count)\n",
    "\n",
    "\n",
    "def plot_conf_matrix(df_labels, df_predictions):\n",
    "    # Merge the dataframes on the 'image' and 'img_name' columns to align them\n",
    "    merged_df = pd.merge(df_labels, df_predictions, left_on='img_name', right_on='image', how='inner')\n",
    "\n",
    "    # Define the possible categories\n",
    "    truth_categories = ['Positive',  'Neutral', 'Negative']\n",
    "    prediction_categories = ['positive',  'neutral', 'negative', 'prediction failed']\n",
    "\n",
    "    # Initialize the confusion matrix\n",
    "    conf_matrix = np.zeros((len(truth_categories), len(prediction_categories)), dtype=int)\n",
    "\n",
    "    # Fill the confusion matrix\n",
    "    for _, row in merged_df.iterrows():\n",
    "        truth = row['image_sentiment']\n",
    "        pred = row['sentiment']\n",
    "        if pred in prediction_categories:\n",
    "            i = truth_categories.index(truth)\n",
    "            j = prediction_categories.index(pred)\n",
    "            conf_matrix[i, j] += 1\n",
    "\n",
    "    # Convert the confusion matrix to a DataFrame for better readability\n",
    "    conf_matrix_df = pd.DataFrame(conf_matrix, index=truth_categories, columns=prediction_categories)\n",
    "\n",
    "    # Display the confusion matrix\n",
    "    plt.figure(figsize=(10, 7))\n",
    "    sns.heatmap(conf_matrix_df, annot=True, fmt='d', cmap='Blues')\n",
    "    plt.title('Confusion Matrix')\n",
    "    plt.ylabel('Actual')\n",
    "    plt.xlabel('Predicted')\n",
    "    plt.show()\n",
    "    return conf_matrix\n",
    "\n",
    "def calc_metrics(conf_matrix):\n",
    "    # Calculate metrics from confusion matrix\n",
    "    truth_categories = ['Positive',  'Neutral', 'Negative']\n",
    "    total_samples = conf_matrix.sum()\n",
    "    correct_predictions = np.trace(conf_matrix)\n",
    "    accuracy = correct_predictions / total_samples\n",
    "\n",
    "    precision = {}\n",
    "    recall = {}\n",
    "    f1_score = {}\n",
    "\n",
    "    for i, category in enumerate(truth_categories):\n",
    "        tp = conf_matrix[i, i]\n",
    "        fp = conf_matrix[:, i].sum() - tp\n",
    "        fn = conf_matrix[i, :].sum() - tp\n",
    "        precision[category] = tp / (tp + fp) if (tp + fp) > 0 else 0\n",
    "        recall[category] = tp / (tp + fn) if (tp + fn) > 0 else 0\n",
    "        f1_score[category] = 2 * (precision[category] * recall[category]) / (precision[category] + recall[category]) if (precision[category] + recall[category]) > 0 else 0\n",
    "\n",
    "\n",
    "    # Display metrics\n",
    "    print(f\"Accuracy: {accuracy:.2f}\")\n",
    "    print(\"Precision:\", precision)\n",
    "    print(\"Recall:\", recall)\n",
    "    print(\"F1 Score:\", f1_score)"
   ]
  },
  {
   "cell_type": "code",
   "execution_count": 6,
   "metadata": {},
   "outputs": [],
   "source": [
    "df_labels = pd.read_excel(\"labeled_subset_500.xlsx\")\n",
    "#remove all columns but img_name, tweet_id, text_sentiment, image_sentiment by name\n",
    "df_labels.drop(columns=['created_at', 'language', 'like_count', 'quote_count', 'referenced_tweets', 'retweet_count', 'text', 'recheck_needed'], axis=1, inplace=True)\n",
    "df_labels.drop(df_labels.columns[4:], axis=1, inplace=True)"
   ]
  },
  {
   "cell_type": "code",
   "execution_count": 7,
   "metadata": {},
   "outputs": [
    {
     "data": {
      "text/html": [
       "<div>\n",
       "<style scoped>\n",
       "    .dataframe tbody tr th:only-of-type {\n",
       "        vertical-align: middle;\n",
       "    }\n",
       "\n",
       "    .dataframe tbody tr th {\n",
       "        vertical-align: top;\n",
       "    }\n",
       "\n",
       "    .dataframe thead th {\n",
       "        text-align: right;\n",
       "    }\n",
       "</style>\n",
       "<table border=\"1\" class=\"dataframe\">\n",
       "  <thead>\n",
       "    <tr style=\"text-align: right;\">\n",
       "      <th></th>\n",
       "      <th>img_name</th>\n",
       "      <th>tweet_id</th>\n",
       "      <th>text_sentiment</th>\n",
       "      <th>image_sentiment</th>\n",
       "    </tr>\n",
       "  </thead>\n",
       "  <tbody>\n",
       "    <tr>\n",
       "      <th>0</th>\n",
       "      <td>id_1103707209022783488_2019-03-07.jpg</td>\n",
       "      <td>1103707209022783488</td>\n",
       "      <td>Positive</td>\n",
       "      <td>Positive</td>\n",
       "    </tr>\n",
       "    <tr>\n",
       "      <th>1</th>\n",
       "      <td>id_1119275549766180864_2019-04-19.jpg</td>\n",
       "      <td>1119275549766180864</td>\n",
       "      <td>Neutral</td>\n",
       "      <td>Neutral</td>\n",
       "    </tr>\n",
       "    <tr>\n",
       "      <th>2</th>\n",
       "      <td>id_1081406708436688896_2019-01-05.jpg</td>\n",
       "      <td>1081406708436688896</td>\n",
       "      <td>Neutral</td>\n",
       "      <td>Positive</td>\n",
       "    </tr>\n",
       "    <tr>\n",
       "      <th>3</th>\n",
       "      <td>id_1089285642826088448_2019-01-26.jpg</td>\n",
       "      <td>1089285642826088448</td>\n",
       "      <td>Neutral</td>\n",
       "      <td>Positive</td>\n",
       "    </tr>\n",
       "    <tr>\n",
       "      <th>4</th>\n",
       "      <td>id_1156199327586488320_2019-07-30.jpg</td>\n",
       "      <td>1156199327586488320</td>\n",
       "      <td>Positive</td>\n",
       "      <td>Positive</td>\n",
       "    </tr>\n",
       "  </tbody>\n",
       "</table>\n",
       "</div>"
      ],
      "text/plain": [
       "                                img_name             tweet_id text_sentiment  \\\n",
       "0  id_1103707209022783488_2019-03-07.jpg  1103707209022783488       Positive   \n",
       "1  id_1119275549766180864_2019-04-19.jpg  1119275549766180864        Neutral   \n",
       "2  id_1081406708436688896_2019-01-05.jpg  1081406708436688896       Neutral    \n",
       "3  id_1089285642826088448_2019-01-26.jpg  1089285642826088448       Neutral    \n",
       "4  id_1156199327586488320_2019-07-30.jpg  1156199327586488320       Positive   \n",
       "\n",
       "  image_sentiment  \n",
       "0        Positive  \n",
       "1        Neutral   \n",
       "2        Positive  \n",
       "3       Positive   \n",
       "4       Positive   "
      ]
     },
     "execution_count": 7,
     "metadata": {},
     "output_type": "execute_result"
    }
   ],
   "source": [
    "df_labels.head()"
   ]
  },
  {
   "cell_type": "code",
   "execution_count": 8,
   "metadata": {},
   "outputs": [
    {
     "data": {
      "text/html": [
       "<div>\n",
       "<style scoped>\n",
       "    .dataframe tbody tr th:only-of-type {\n",
       "        vertical-align: middle;\n",
       "    }\n",
       "\n",
       "    .dataframe tbody tr th {\n",
       "        vertical-align: top;\n",
       "    }\n",
       "\n",
       "    .dataframe thead th {\n",
       "        text-align: right;\n",
       "    }\n",
       "</style>\n",
       "<table border=\"1\" class=\"dataframe\">\n",
       "  <thead>\n",
       "    <tr style=\"text-align: right;\">\n",
       "      <th></th>\n",
       "      <th>img_name</th>\n",
       "      <th>tweet_id</th>\n",
       "      <th>text_sentiment</th>\n",
       "      <th>image_sentiment</th>\n",
       "    </tr>\n",
       "  </thead>\n",
       "  <tbody>\n",
       "    <tr>\n",
       "      <th>count</th>\n",
       "      <td>500</td>\n",
       "      <td>5.000000e+02</td>\n",
       "      <td>500</td>\n",
       "      <td>500</td>\n",
       "    </tr>\n",
       "    <tr>\n",
       "      <th>unique</th>\n",
       "      <td>500</td>\n",
       "      <td>NaN</td>\n",
       "      <td>3</td>\n",
       "      <td>3</td>\n",
       "    </tr>\n",
       "    <tr>\n",
       "      <th>top</th>\n",
       "      <td>id_1103707209022783488_2019-03-07.jpg</td>\n",
       "      <td>NaN</td>\n",
       "      <td>Neutral</td>\n",
       "      <td>Neutral</td>\n",
       "    </tr>\n",
       "    <tr>\n",
       "      <th>freq</th>\n",
       "      <td>1</td>\n",
       "      <td>NaN</td>\n",
       "      <td>198</td>\n",
       "      <td>229</td>\n",
       "    </tr>\n",
       "    <tr>\n",
       "      <th>mean</th>\n",
       "      <td>NaN</td>\n",
       "      <td>1.150498e+18</td>\n",
       "      <td>NaN</td>\n",
       "      <td>NaN</td>\n",
       "    </tr>\n",
       "    <tr>\n",
       "      <th>std</th>\n",
       "      <td>NaN</td>\n",
       "      <td>3.643419e+16</td>\n",
       "      <td>NaN</td>\n",
       "      <td>NaN</td>\n",
       "    </tr>\n",
       "    <tr>\n",
       "      <th>min</th>\n",
       "      <td>NaN</td>\n",
       "      <td>1.080492e+18</td>\n",
       "      <td>NaN</td>\n",
       "      <td>NaN</td>\n",
       "    </tr>\n",
       "    <tr>\n",
       "      <th>25%</th>\n",
       "      <td>NaN</td>\n",
       "      <td>1.121437e+18</td>\n",
       "      <td>NaN</td>\n",
       "      <td>NaN</td>\n",
       "    </tr>\n",
       "    <tr>\n",
       "      <th>50%</th>\n",
       "      <td>NaN</td>\n",
       "      <td>1.152433e+18</td>\n",
       "      <td>NaN</td>\n",
       "      <td>NaN</td>\n",
       "    </tr>\n",
       "    <tr>\n",
       "      <th>75%</th>\n",
       "      <td>NaN</td>\n",
       "      <td>1.180680e+18</td>\n",
       "      <td>NaN</td>\n",
       "      <td>NaN</td>\n",
       "    </tr>\n",
       "    <tr>\n",
       "      <th>max</th>\n",
       "      <td>NaN</td>\n",
       "      <td>1.212030e+18</td>\n",
       "      <td>NaN</td>\n",
       "      <td>NaN</td>\n",
       "    </tr>\n",
       "  </tbody>\n",
       "</table>\n",
       "</div>"
      ],
      "text/plain": [
       "                                     img_name      tweet_id text_sentiment  \\\n",
       "count                                     500  5.000000e+02            500   \n",
       "unique                                    500           NaN              3   \n",
       "top     id_1103707209022783488_2019-03-07.jpg           NaN        Neutral   \n",
       "freq                                        1           NaN            198   \n",
       "mean                                      NaN  1.150498e+18            NaN   \n",
       "std                                       NaN  3.643419e+16            NaN   \n",
       "min                                       NaN  1.080492e+18            NaN   \n",
       "25%                                       NaN  1.121437e+18            NaN   \n",
       "50%                                       NaN  1.152433e+18            NaN   \n",
       "75%                                       NaN  1.180680e+18            NaN   \n",
       "max                                       NaN  1.212030e+18            NaN   \n",
       "\n",
       "       image_sentiment  \n",
       "count              500  \n",
       "unique               3  \n",
       "top            Neutral  \n",
       "freq               229  \n",
       "mean               NaN  \n",
       "std                NaN  \n",
       "min                NaN  \n",
       "25%                NaN  \n",
       "50%                NaN  \n",
       "75%                NaN  \n",
       "max                NaN  "
      ]
     },
     "execution_count": 8,
     "metadata": {},
     "output_type": "execute_result"
    }
   ],
   "source": [
    "# trim whitespaces from image_sentiment and text_sentiment\n",
    "df_labels['image_sentiment'] = df_labels['image_sentiment'].str.strip()\n",
    "df_labels['text_sentiment'] = df_labels['text_sentiment'].str.strip()\n",
    "df_labels.describe(include='all')\n"
   ]
  },
  {
   "cell_type": "markdown",
   "metadata": {},
   "source": [
    "### Gemini\n"
   ]
  },
  {
   "cell_type": "code",
   "execution_count": 7,
   "metadata": {},
   "outputs": [],
   "source": [
    "# load gemini predictions\n",
    "gemini = pd.read_csv(\"results/responses_subset_small_all_results_updated.csv\")\n",
    "gemini = gemini.drop_duplicates() "
   ]
  },
  {
   "cell_type": "code",
   "execution_count": 8,
   "metadata": {},
   "outputs": [
    {
     "data": {
      "text/html": [
       "<div>\n",
       "<style scoped>\n",
       "    .dataframe tbody tr th:only-of-type {\n",
       "        vertical-align: middle;\n",
       "    }\n",
       "\n",
       "    .dataframe tbody tr th {\n",
       "        vertical-align: top;\n",
       "    }\n",
       "\n",
       "    .dataframe thead th {\n",
       "        text-align: right;\n",
       "    }\n",
       "</style>\n",
       "<table border=\"1\" class=\"dataframe\">\n",
       "  <thead>\n",
       "    <tr style=\"text-align: right;\">\n",
       "      <th></th>\n",
       "      <th>image</th>\n",
       "      <th>sentiment</th>\n",
       "      <th>confidence</th>\n",
       "      <th>explanation</th>\n",
       "    </tr>\n",
       "  </thead>\n",
       "  <tbody>\n",
       "    <tr>\n",
       "      <th>0</th>\n",
       "      <td>id_1087717020001542151_2019-01-22.jpg</td>\n",
       "      <td>negative</td>\n",
       "      <td>1.0</td>\n",
       "      <td>'There is no planet B' suggests that Earth is ...</td>\n",
       "    </tr>\n",
       "    <tr>\n",
       "      <th>1</th>\n",
       "      <td>id_1105854449824792576_2019-03-13.jpg</td>\n",
       "      <td>prediction failed</td>\n",
       "      <td>0.0</td>\n",
       "      <td>No sentiment detected.</td>\n",
       "    </tr>\n",
       "    <tr>\n",
       "      <th>2</th>\n",
       "      <td>id_1088764632901259264_2019-01-25.jpg</td>\n",
       "      <td>negative</td>\n",
       "      <td>0.9</td>\n",
       "      <td>The image shows a group of people who are cons...</td>\n",
       "    </tr>\n",
       "    <tr>\n",
       "      <th>3</th>\n",
       "      <td>id_1086040260704985088_2019-01-17.jpg</td>\n",
       "      <td>negative</td>\n",
       "      <td>0.9</td>\n",
       "      <td>The image shows a comparison between the Arcti...</td>\n",
       "    </tr>\n",
       "    <tr>\n",
       "      <th>4</th>\n",
       "      <td>id_1106631808890867714_2019-03-15.jpg</td>\n",
       "      <td>positive</td>\n",
       "      <td>0.9</td>\n",
       "      <td>The image shows a group of children holding si...</td>\n",
       "    </tr>\n",
       "  </tbody>\n",
       "</table>\n",
       "</div>"
      ],
      "text/plain": [
       "                                   image          sentiment  confidence  \\\n",
       "0  id_1087717020001542151_2019-01-22.jpg           negative         1.0   \n",
       "1  id_1105854449824792576_2019-03-13.jpg  prediction failed         0.0   \n",
       "2  id_1088764632901259264_2019-01-25.jpg           negative         0.9   \n",
       "3  id_1086040260704985088_2019-01-17.jpg           negative         0.9   \n",
       "4  id_1106631808890867714_2019-03-15.jpg           positive         0.9   \n",
       "\n",
       "                                         explanation  \n",
       "0  'There is no planet B' suggests that Earth is ...  \n",
       "1                             No sentiment detected.  \n",
       "2  The image shows a group of people who are cons...  \n",
       "3  The image shows a comparison between the Arcti...  \n",
       "4  The image shows a group of children holding si...  "
      ]
     },
     "execution_count": 8,
     "metadata": {},
     "output_type": "execute_result"
    }
   ],
   "source": [
    "gemini.head()"
   ]
  },
  {
   "cell_type": "code",
   "execution_count": 9,
   "metadata": {},
   "outputs": [
    {
     "data": {
      "text/html": [
       "<div>\n",
       "<style scoped>\n",
       "    .dataframe tbody tr th:only-of-type {\n",
       "        vertical-align: middle;\n",
       "    }\n",
       "\n",
       "    .dataframe tbody tr th {\n",
       "        vertical-align: top;\n",
       "    }\n",
       "\n",
       "    .dataframe thead th {\n",
       "        text-align: right;\n",
       "    }\n",
       "</style>\n",
       "<table border=\"1\" class=\"dataframe\">\n",
       "  <thead>\n",
       "    <tr style=\"text-align: right;\">\n",
       "      <th></th>\n",
       "      <th>image</th>\n",
       "      <th>sentiment</th>\n",
       "      <th>confidence</th>\n",
       "      <th>explanation</th>\n",
       "    </tr>\n",
       "  </thead>\n",
       "  <tbody>\n",
       "    <tr>\n",
       "      <th>count</th>\n",
       "      <td>5000</td>\n",
       "      <td>5000</td>\n",
       "      <td>5000.000000</td>\n",
       "      <td>5000</td>\n",
       "    </tr>\n",
       "    <tr>\n",
       "      <th>unique</th>\n",
       "      <td>5000</td>\n",
       "      <td>4</td>\n",
       "      <td>NaN</td>\n",
       "      <td>4628</td>\n",
       "    </tr>\n",
       "    <tr>\n",
       "      <th>top</th>\n",
       "      <td>id_1087717020001542151_2019-01-22.jpg</td>\n",
       "      <td>positive</td>\n",
       "      <td>NaN</td>\n",
       "      <td>No sentiment detected.</td>\n",
       "    </tr>\n",
       "    <tr>\n",
       "      <th>freq</th>\n",
       "      <td>1</td>\n",
       "      <td>1921</td>\n",
       "      <td>NaN</td>\n",
       "      <td>218</td>\n",
       "    </tr>\n",
       "    <tr>\n",
       "      <th>mean</th>\n",
       "      <td>NaN</td>\n",
       "      <td>NaN</td>\n",
       "      <td>0.776852</td>\n",
       "      <td>NaN</td>\n",
       "    </tr>\n",
       "    <tr>\n",
       "      <th>std</th>\n",
       "      <td>NaN</td>\n",
       "      <td>NaN</td>\n",
       "      <td>0.210349</td>\n",
       "      <td>NaN</td>\n",
       "    </tr>\n",
       "    <tr>\n",
       "      <th>min</th>\n",
       "      <td>NaN</td>\n",
       "      <td>NaN</td>\n",
       "      <td>0.000000</td>\n",
       "      <td>NaN</td>\n",
       "    </tr>\n",
       "    <tr>\n",
       "      <th>25%</th>\n",
       "      <td>NaN</td>\n",
       "      <td>NaN</td>\n",
       "      <td>0.700000</td>\n",
       "      <td>NaN</td>\n",
       "    </tr>\n",
       "    <tr>\n",
       "      <th>50%</th>\n",
       "      <td>NaN</td>\n",
       "      <td>NaN</td>\n",
       "      <td>0.800000</td>\n",
       "      <td>NaN</td>\n",
       "    </tr>\n",
       "    <tr>\n",
       "      <th>75%</th>\n",
       "      <td>NaN</td>\n",
       "      <td>NaN</td>\n",
       "      <td>0.900000</td>\n",
       "      <td>NaN</td>\n",
       "    </tr>\n",
       "    <tr>\n",
       "      <th>max</th>\n",
       "      <td>NaN</td>\n",
       "      <td>NaN</td>\n",
       "      <td>1.000000</td>\n",
       "      <td>NaN</td>\n",
       "    </tr>\n",
       "  </tbody>\n",
       "</table>\n",
       "</div>"
      ],
      "text/plain": [
       "                                        image sentiment   confidence  \\\n",
       "count                                    5000      5000  5000.000000   \n",
       "unique                                   5000         4          NaN   \n",
       "top     id_1087717020001542151_2019-01-22.jpg  positive          NaN   \n",
       "freq                                        1      1921          NaN   \n",
       "mean                                      NaN       NaN     0.776852   \n",
       "std                                       NaN       NaN     0.210349   \n",
       "min                                       NaN       NaN     0.000000   \n",
       "25%                                       NaN       NaN     0.700000   \n",
       "50%                                       NaN       NaN     0.800000   \n",
       "75%                                       NaN       NaN     0.900000   \n",
       "max                                       NaN       NaN     1.000000   \n",
       "\n",
       "                   explanation  \n",
       "count                     5000  \n",
       "unique                    4628  \n",
       "top     No sentiment detected.  \n",
       "freq                       218  \n",
       "mean                       NaN  \n",
       "std                        NaN  \n",
       "min                        NaN  \n",
       "25%                        NaN  \n",
       "50%                        NaN  \n",
       "75%                        NaN  \n",
       "max                        NaN  "
      ]
     },
     "execution_count": 9,
     "metadata": {},
     "output_type": "execute_result"
    }
   ],
   "source": [
    "gemini.describe(include='all')"
   ]
  },
  {
   "cell_type": "code",
   "execution_count": 115,
   "metadata": {},
   "outputs": [
    {
     "name": "stdout",
     "output_type": "stream",
     "text": [
      "True:  278\n",
      "False:  222\n"
     ]
    }
   ],
   "source": [
    "count_t_f(df_labels, gemini)"
   ]
  },
  {
   "cell_type": "code",
   "execution_count": 11,
   "metadata": {},
   "outputs": [
    {
     "data": {
      "image/png": "[encoded data removed]",
      "text/plain": [
       "<Figure size 1000x700 with 2 Axes>"
      ]
     },
     "metadata": {},
     "output_type": "display_data"
    }
   ],
   "source": [
    "conf_matrix = plot_conf_matrix(df_labels, gemini)"
   ]
  },
  {
   "cell_type": "code",
   "execution_count": 12,
   "metadata": {},
   "outputs": [
    {
     "name": "stdout",
     "output_type": "stream",
     "text": [
      "Accuracy: 0.56\n",
      "Precision: {'Positive': 0.49528301886792453, 'Neutral': 0.7391304347826086, 'Negative': 0.5827814569536424}\n",
      "Recall: {'Positive': 0.860655737704918, 'Neutral': 0.37117903930131, 'Negative': 0.5906040268456376}\n",
      "F1 Score: {'Positive': 0.62874251497006, 'Neutral': 0.4941860465116278, 'Negative': 0.5866666666666668}\n"
     ]
    }
   ],
   "source": [
    "calc_metrics(conf_matrix)"
   ]
  },
  {
   "cell_type": "markdown",
   "metadata": {},
   "source": [
    "### VQA\n"
   ]
  },
  {
   "cell_type": "code",
   "execution_count": 122,
   "metadata": {},
   "outputs": [],
   "source": [
    "vqa = pd.read_csv(\"results_VQA/SA_results_blip-vqa-capfilt-large_subset_5000.csv\")"
   ]
  },
  {
   "cell_type": "code",
   "execution_count": 124,
   "metadata": {},
   "outputs": [
    {
     "data": {
      "text/html": [
       "<div>\n",
       "<style scoped>\n",
       "    .dataframe tbody tr th:only-of-type {\n",
       "        vertical-align: middle;\n",
       "    }\n",
       "\n",
       "    .dataframe tbody tr th {\n",
       "        vertical-align: top;\n",
       "    }\n",
       "\n",
       "    .dataframe thead th {\n",
       "        text-align: right;\n",
       "    }\n",
       "</style>\n",
       "<table border=\"1\" class=\"dataframe\">\n",
       "  <thead>\n",
       "    <tr style=\"text-align: right;\">\n",
       "      <th></th>\n",
       "      <th>Unnamed: 0</th>\n",
       "      <th>image</th>\n",
       "      <th>sentiment</th>\n",
       "    </tr>\n",
       "  </thead>\n",
       "  <tbody>\n",
       "    <tr>\n",
       "      <th>count</th>\n",
       "      <td>5000.000000</td>\n",
       "      <td>5000</td>\n",
       "      <td>5000</td>\n",
       "    </tr>\n",
       "    <tr>\n",
       "      <th>unique</th>\n",
       "      <td>NaN</td>\n",
       "      <td>5000</td>\n",
       "      <td>3</td>\n",
       "    </tr>\n",
       "    <tr>\n",
       "      <th>top</th>\n",
       "      <td>NaN</td>\n",
       "      <td>id_1087717020001542151_2019-01-22.jpg</td>\n",
       "      <td>positive</td>\n",
       "    </tr>\n",
       "    <tr>\n",
       "      <th>freq</th>\n",
       "      <td>NaN</td>\n",
       "      <td>1</td>\n",
       "      <td>4840</td>\n",
       "    </tr>\n",
       "    <tr>\n",
       "      <th>mean</th>\n",
       "      <td>2499.500000</td>\n",
       "      <td>NaN</td>\n",
       "      <td>NaN</td>\n",
       "    </tr>\n",
       "    <tr>\n",
       "      <th>std</th>\n",
       "      <td>1443.520003</td>\n",
       "      <td>NaN</td>\n",
       "      <td>NaN</td>\n",
       "    </tr>\n",
       "    <tr>\n",
       "      <th>min</th>\n",
       "      <td>0.000000</td>\n",
       "      <td>NaN</td>\n",
       "      <td>NaN</td>\n",
       "    </tr>\n",
       "    <tr>\n",
       "      <th>25%</th>\n",
       "      <td>1249.750000</td>\n",
       "      <td>NaN</td>\n",
       "      <td>NaN</td>\n",
       "    </tr>\n",
       "    <tr>\n",
       "      <th>50%</th>\n",
       "      <td>2499.500000</td>\n",
       "      <td>NaN</td>\n",
       "      <td>NaN</td>\n",
       "    </tr>\n",
       "    <tr>\n",
       "      <th>75%</th>\n",
       "      <td>3749.250000</td>\n",
       "      <td>NaN</td>\n",
       "      <td>NaN</td>\n",
       "    </tr>\n",
       "    <tr>\n",
       "      <th>max</th>\n",
       "      <td>4999.000000</td>\n",
       "      <td>NaN</td>\n",
       "      <td>NaN</td>\n",
       "    </tr>\n",
       "  </tbody>\n",
       "</table>\n",
       "</div>"
      ],
      "text/plain": [
       "         Unnamed: 0                                  image sentiment\n",
       "count   5000.000000                                   5000      5000\n",
       "unique          NaN                                   5000         3\n",
       "top             NaN  id_1087717020001542151_2019-01-22.jpg  positive\n",
       "freq            NaN                                      1      4840\n",
       "mean    2499.500000                                    NaN       NaN\n",
       "std     1443.520003                                    NaN       NaN\n",
       "min        0.000000                                    NaN       NaN\n",
       "25%     1249.750000                                    NaN       NaN\n",
       "50%     2499.500000                                    NaN       NaN\n",
       "75%     3749.250000                                    NaN       NaN\n",
       "max     4999.000000                                    NaN       NaN"
      ]
     },
     "execution_count": 124,
     "metadata": {},
     "output_type": "execute_result"
    }
   ],
   "source": [
    "vqa.describe(include='all')"
   ]
  },
  {
   "cell_type": "code",
   "execution_count": 125,
   "metadata": {},
   "outputs": [
    {
     "name": "stdout",
     "output_type": "stream",
     "text": [
      "True:  131\n",
      "False:  369\n"
     ]
    }
   ],
   "source": [
    "count_t_f(df_labels, vqa)"
   ]
  },
  {
   "cell_type": "code",
   "execution_count": 126,
   "metadata": {},
   "outputs": [
    {
     "data": {
      "image/png": "[encoded data removed]",
      "text/plain": [
       "<Figure size 1000x700 with 2 Axes>"
      ]
     },
     "metadata": {},
     "output_type": "display_data"
    }
   ],
   "source": [
    "conf_matrix = plot_conf_matrix(df_labels, vqa)"
   ]
  },
  {
   "cell_type": "code",
   "execution_count": 127,
   "metadata": {},
   "outputs": [
    {
     "name": "stdout",
     "output_type": "stream",
     "text": [
      "Accuracy: 0.26\n",
      "Precision: {'Positive': 0.24897119341563786, 'Neutral': 1.0, 'Negative': 0.5555555555555556}\n",
      "Recall: {'Positive': 0.9918032786885246, 'Neutral': 0.021834061135371178, 'Negative': 0.03355704697986577}\n",
      "F1 Score: {'Positive': 0.3980263157894737, 'Neutral': 0.042735042735042736, 'Negative': 0.06329113924050633}\n"
     ]
    }
   ],
   "source": [
    "calc_metrics(conf_matrix)"
   ]
  },
  {
   "cell_type": "markdown",
   "metadata": {},
   "source": [
    "### VQA base"
   ]
  },
  {
   "cell_type": "code",
   "execution_count": 13,
   "metadata": {},
   "outputs": [
    {
     "data": {
      "text/html": [
       "<div>\n",
       "<style scoped>\n",
       "    .dataframe tbody tr th:only-of-type {\n",
       "        vertical-align: middle;\n",
       "    }\n",
       "\n",
       "    .dataframe tbody tr th {\n",
       "        vertical-align: top;\n",
       "    }\n",
       "\n",
       "    .dataframe thead th {\n",
       "        text-align: right;\n",
       "    }\n",
       "</style>\n",
       "<table border=\"1\" class=\"dataframe\">\n",
       "  <thead>\n",
       "    <tr style=\"text-align: right;\">\n",
       "      <th></th>\n",
       "      <th>Unnamed: 0</th>\n",
       "      <th>image</th>\n",
       "      <th>sentiment</th>\n",
       "    </tr>\n",
       "  </thead>\n",
       "  <tbody>\n",
       "    <tr>\n",
       "      <th>count</th>\n",
       "      <td>5000.000000</td>\n",
       "      <td>5000</td>\n",
       "      <td>5000</td>\n",
       "    </tr>\n",
       "    <tr>\n",
       "      <th>unique</th>\n",
       "      <td>NaN</td>\n",
       "      <td>5000</td>\n",
       "      <td>3</td>\n",
       "    </tr>\n",
       "    <tr>\n",
       "      <th>top</th>\n",
       "      <td>NaN</td>\n",
       "      <td>id_1165896611395825666_2019-08-26.jpg</td>\n",
       "      <td>positive</td>\n",
       "    </tr>\n",
       "    <tr>\n",
       "      <th>freq</th>\n",
       "      <td>NaN</td>\n",
       "      <td>1</td>\n",
       "      <td>4836</td>\n",
       "    </tr>\n",
       "    <tr>\n",
       "      <th>mean</th>\n",
       "      <td>2499.500000</td>\n",
       "      <td>NaN</td>\n",
       "      <td>NaN</td>\n",
       "    </tr>\n",
       "    <tr>\n",
       "      <th>std</th>\n",
       "      <td>1443.520003</td>\n",
       "      <td>NaN</td>\n",
       "      <td>NaN</td>\n",
       "    </tr>\n",
       "    <tr>\n",
       "      <th>min</th>\n",
       "      <td>0.000000</td>\n",
       "      <td>NaN</td>\n",
       "      <td>NaN</td>\n",
       "    </tr>\n",
       "    <tr>\n",
       "      <th>25%</th>\n",
       "      <td>1249.750000</td>\n",
       "      <td>NaN</td>\n",
       "      <td>NaN</td>\n",
       "    </tr>\n",
       "    <tr>\n",
       "      <th>50%</th>\n",
       "      <td>2499.500000</td>\n",
       "      <td>NaN</td>\n",
       "      <td>NaN</td>\n",
       "    </tr>\n",
       "    <tr>\n",
       "      <th>75%</th>\n",
       "      <td>3749.250000</td>\n",
       "      <td>NaN</td>\n",
       "      <td>NaN</td>\n",
       "    </tr>\n",
       "    <tr>\n",
       "      <th>max</th>\n",
       "      <td>4999.000000</td>\n",
       "      <td>NaN</td>\n",
       "      <td>NaN</td>\n",
       "    </tr>\n",
       "  </tbody>\n",
       "</table>\n",
       "</div>"
      ],
      "text/plain": [
       "         Unnamed: 0                                  image sentiment\n",
       "count   5000.000000                                   5000      5000\n",
       "unique          NaN                                   5000         3\n",
       "top             NaN  id_1165896611395825666_2019-08-26.jpg  positive\n",
       "freq            NaN                                      1      4836\n",
       "mean    2499.500000                                    NaN       NaN\n",
       "std     1443.520003                                    NaN       NaN\n",
       "min        0.000000                                    NaN       NaN\n",
       "25%     1249.750000                                    NaN       NaN\n",
       "50%     2499.500000                                    NaN       NaN\n",
       "75%     3749.250000                                    NaN       NaN\n",
       "max     4999.000000                                    NaN       NaN"
      ]
     },
     "execution_count": 13,
     "metadata": {},
     "output_type": "execute_result"
    }
   ],
   "source": [
    "vqa_base = pd.read_csv(\"results_VQA/SA_results_blip-vqa-base-large_subset_5000.csv\")\n",
    "vqa_base.describe(include='all')"
   ]
  },
  {
   "cell_type": "code",
   "execution_count": 14,
   "metadata": {},
   "outputs": [
    {
     "name": "stdout",
     "output_type": "stream",
     "text": [
      "True:  131\n",
      "False:  369\n"
     ]
    }
   ],
   "source": [
    "count_t_f(df_labels, vqa_base)"
   ]
  },
  {
   "cell_type": "code",
   "execution_count": 15,
   "metadata": {},
   "outputs": [
    {
     "data": {
      "image/png": "[encoded data removed]",
      "text/plain": [
       "<Figure size 1000x700 with 2 Axes>"
      ]
     },
     "metadata": {},
     "output_type": "display_data"
    }
   ],
   "source": [
    "conf_matrix = plot_conf_matrix(df_labels, vqa_base)"
   ]
  },
  {
   "cell_type": "code",
   "execution_count": 16,
   "metadata": {},
   "outputs": [
    {
     "name": "stdout",
     "output_type": "stream",
     "text": [
      "Accuracy: 0.26\n",
      "Precision: {'Positive': 0.24897119341563786, 'Neutral': 1.0, 'Negative': 0.5555555555555556}\n",
      "Recall: {'Positive': 0.9918032786885246, 'Neutral': 0.021834061135371178, 'Negative': 0.03355704697986577}\n",
      "F1 Score: {'Positive': 0.3980263157894737, 'Neutral': 0.042735042735042736, 'Negative': 0.06329113924050633}\n"
     ]
    }
   ],
   "source": [
    "calc_metrics(conf_matrix)"
   ]
  },
  {
   "cell_type": "markdown",
   "metadata": {},
   "source": [
    "### Lens + T5"
   ]
  },
  {
   "cell_type": "code",
   "execution_count": 9,
   "metadata": {},
   "outputs": [
    {
     "data": {
      "text/html": [
       "<div>\n",
       "<style scoped>\n",
       "    .dataframe tbody tr th:only-of-type {\n",
       "        vertical-align: middle;\n",
       "    }\n",
       "\n",
       "    .dataframe tbody tr th {\n",
       "        vertical-align: top;\n",
       "    }\n",
       "\n",
       "    .dataframe thead th {\n",
       "        text-align: right;\n",
       "    }\n",
       "</style>\n",
       "<table border=\"1\" class=\"dataframe\">\n",
       "  <thead>\n",
       "    <tr style=\"text-align: right;\">\n",
       "      <th></th>\n",
       "      <th>Unnamed: 0</th>\n",
       "      <th>image</th>\n",
       "      <th>sentiment</th>\n",
       "    </tr>\n",
       "  </thead>\n",
       "  <tbody>\n",
       "    <tr>\n",
       "      <th>count</th>\n",
       "      <td>5000.000000</td>\n",
       "      <td>5000</td>\n",
       "      <td>5000</td>\n",
       "    </tr>\n",
       "    <tr>\n",
       "      <th>unique</th>\n",
       "      <td>NaN</td>\n",
       "      <td>5000</td>\n",
       "      <td>3</td>\n",
       "    </tr>\n",
       "    <tr>\n",
       "      <th>top</th>\n",
       "      <td>NaN</td>\n",
       "      <td>id_1087717020001542151_2019-01-22.jpg</td>\n",
       "      <td>positive</td>\n",
       "    </tr>\n",
       "    <tr>\n",
       "      <th>freq</th>\n",
       "      <td>NaN</td>\n",
       "      <td>1</td>\n",
       "      <td>2924</td>\n",
       "    </tr>\n",
       "    <tr>\n",
       "      <th>mean</th>\n",
       "      <td>2499.500000</td>\n",
       "      <td>NaN</td>\n",
       "      <td>NaN</td>\n",
       "    </tr>\n",
       "    <tr>\n",
       "      <th>std</th>\n",
       "      <td>1443.520003</td>\n",
       "      <td>NaN</td>\n",
       "      <td>NaN</td>\n",
       "    </tr>\n",
       "    <tr>\n",
       "      <th>min</th>\n",
       "      <td>0.000000</td>\n",
       "      <td>NaN</td>\n",
       "      <td>NaN</td>\n",
       "    </tr>\n",
       "    <tr>\n",
       "      <th>25%</th>\n",
       "      <td>1249.750000</td>\n",
       "      <td>NaN</td>\n",
       "      <td>NaN</td>\n",
       "    </tr>\n",
       "    <tr>\n",
       "      <th>50%</th>\n",
       "      <td>2499.500000</td>\n",
       "      <td>NaN</td>\n",
       "      <td>NaN</td>\n",
       "    </tr>\n",
       "    <tr>\n",
       "      <th>75%</th>\n",
       "      <td>3749.250000</td>\n",
       "      <td>NaN</td>\n",
       "      <td>NaN</td>\n",
       "    </tr>\n",
       "    <tr>\n",
       "      <th>max</th>\n",
       "      <td>4999.000000</td>\n",
       "      <td>NaN</td>\n",
       "      <td>NaN</td>\n",
       "    </tr>\n",
       "  </tbody>\n",
       "</table>\n",
       "</div>"
      ],
      "text/plain": [
       "         Unnamed: 0                                  image sentiment\n",
       "count   5000.000000                                   5000      5000\n",
       "unique          NaN                                   5000         3\n",
       "top             NaN  id_1087717020001542151_2019-01-22.jpg  positive\n",
       "freq            NaN                                      1      2924\n",
       "mean    2499.500000                                    NaN       NaN\n",
       "std     1443.520003                                    NaN       NaN\n",
       "min        0.000000                                    NaN       NaN\n",
       "25%     1249.750000                                    NaN       NaN\n",
       "50%     2499.500000                                    NaN       NaN\n",
       "75%     3749.250000                                    NaN       NaN\n",
       "max     4999.000000                                    NaN       NaN"
      ]
     },
     "execution_count": 9,
     "metadata": {},
     "output_type": "execute_result"
    }
   ],
   "source": [
    "lens = pd.read_csv(\"results_lens/SA_results_lens_t5_subset_5000.csv\")\n",
    "lens.describe(include='all')"
   ]
  },
  {
   "cell_type": "code",
   "execution_count": 10,
   "metadata": {},
   "outputs": [
    {
     "name": "stdout",
     "output_type": "stream",
     "text": [
      "True:  212\n",
      "False:  288\n"
     ]
    }
   ],
   "source": [
    "count_t_f(df_labels, lens)"
   ]
  },
  {
   "cell_type": "code",
   "execution_count": 11,
   "metadata": {},
   "outputs": [
    {
     "data": {
      "image/png": "[encoded data removed]",
      "text/plain": [
       "<Figure size 1000x700 with 2 Axes>"
      ]
     },
     "metadata": {},
     "output_type": "display_data"
    }
   ],
   "source": [
    "conf_matrix = plot_conf_matrix(df_labels, lens)"
   ]
  },
  {
   "cell_type": "code",
   "execution_count": 12,
   "metadata": {},
   "outputs": [
    {
     "name": "stdout",
     "output_type": "stream",
     "text": [
      "Accuracy: 0.42\n",
      "Precision: {'Positive': 0.34812286689419797, 'Neutral': 0.8421052631578947, 'Negative': 0.5}\n",
      "Recall: {'Positive': 0.8360655737704918, 'Neutral': 0.06986899563318777, 'Negative': 0.6308724832214765}\n",
      "F1 Score: {'Positive': 0.491566265060241, 'Neutral': 0.12903225806451613, 'Negative': 0.5578635014836795}\n"
     ]
    }
   ],
   "source": [
    "calc_metrics(conf_matrix)"
   ]
  },
  {
   "cell_type": "markdown",
   "metadata": {},
   "source": [
    "## next steps:\n",
    "- evaluate other models\n",
    "- look at specific confusions (FP, FN)\n",
    "- combine with GUI\n"
   ]
  },
  {
   "cell_type": "markdown",
   "metadata": {},
   "source": [
    "GUI:\n",
    "- display of images with same properties in kachelform -> press for more information"
   ]
  },
  {
   "cell_type": "markdown",
   "metadata": {},
   "source": []
  }
 ],
 "metadata": {
  "kernelspec": {
   "display_name": ".venv",
   "language": "python",
   "name": "python3"
  },
  "language_info": {
   "codemirror_mode": {
    "name": "ipython",
    "version": 3
   },
   "file_extension": ".py",
   "mimetype": "text/x-python",
   "name": "python",
   "nbconvert_exporter": "python",
   "pygments_lexer": "ipython3",
   "version": "3.10.0"
  }
 },
 "nbformat": 4,
 "nbformat_minor": 2
}

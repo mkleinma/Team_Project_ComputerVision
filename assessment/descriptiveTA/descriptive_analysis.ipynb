{
 "cells": [
  {
   "cell_type": "markdown",
   "metadata": {},
   "source": [
    "Goal: to derive information from tweet\n",
    "\n",
    "Descriptive analysis of the text:\n",
    "- using packages like NLTK, SpaCy \n",
    "- possible new features: \n",
    "    - .# of words,  # of chars, avg, length of words, most common words, occurrences of chars (e.g., ‘?’, ‘!’), most common smileys, most common multiple smiley occurrences, etc.). "
   ]
  },
  {
   "cell_type": "code",
   "execution_count": null,
   "metadata": {},
   "outputs": [],
   "source": []
  }
 ],
 "metadata": {
  "language_info": {
   "name": "python"
  }
 },
 "nbformat": 4,
 "nbformat_minor": 2
}
